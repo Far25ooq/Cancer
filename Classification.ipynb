{
  "nbformat": 4,
  "nbformat_minor": 0,
  "metadata": {
    "colab": {
      "name": "Untitled4.ipynb",
      "provenance": [],
      "authorship_tag": "ABX9TyPXs4bLMsAdGnH9le/EpOjV",
      "include_colab_link": true
    },
    "kernelspec": {
      "name": "python3",
      "display_name": "Python 3"
    }
  },
  "cells": [
    {
      "cell_type": "markdown",
      "metadata": {
        "id": "view-in-github",
        "colab_type": "text"
      },
      "source": [
        "<a href=\"https://colab.research.google.com/github/Far25ooq/Cancer/blob/main/Classification.ipynb\" target=\"_parent\"><img src=\"https://colab.research.google.com/assets/colab-badge.svg\" alt=\"Open In Colab\"/></a>"
      ]
    },
    {
      "cell_type": "code",
      "metadata": {
        "id": "ZO5Ip8A567BU"
      },
      "source": [
        "#Import Libraries\n",
        "import glob\n",
        "from keras.models import Sequential, load_model\n",
        "import numpy as np\n",
        "import pandas as pd\n",
        "from keras.layers import Dense\n",
        "from sklearn.model_selection import train_test_split\n",
        "from sklearn.preprocessing import LabelEncoder, MinMaxScaler\n",
        "import matplotlib.pyplot as plt\n",
        "import keras as k\n"
      ],
      "execution_count": null,
      "outputs": []
    },
    {
      "cell_type": "code",
      "metadata": {
        "id": "WhOaGx1tfjm9"
      },
      "source": [
        "import numpy as np\n",
        "import pandas as pd\n",
        "import matplotlib.pyplot as plt\n",
        "import seaborn as sns"
      ],
      "execution_count": null,
      "outputs": []
    },
    {
      "cell_type": "code",
      "metadata": {
        "id": "UIApXYx0flf4"
      },
      "source": [
        "from sklearn.model_selection import train_test_split\n",
        "from sklearn.ensemble import RandomForestClassifier\n",
        "from sklearn.metrics import accuracy_score\n",
        "from sklearn.feature_selection import VarianceThreshold"
      ],
      "execution_count": null,
      "outputs": []
    },
    {
      "cell_type": "code",
      "metadata": {
        "id": "PCCw7G9U07FP"
      },
      "source": [
        "\n",
        "#import libraries\n",
        "import numpy as np\n",
        "import pandas as pd\n",
        "import matplotlib.pyplot as plt\n",
        "import seaborn as sns\n"
      ],
      "execution_count": null,
      "outputs": []
    },
    {
      "cell_type": "code",
      "metadata": {
        "id": "JOOMvzlzdzEp",
        "colab": {
          "resources": {
            "http://localhost:8080/nbextensions/google.colab/files.js": {
              "data": "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",
              "ok": true,
              "headers": [
                [
                  "content-type",
                  "application/javascript"
                ]
              ],
              "status": 200,
              "status_text": ""
            }
          },
          "base_uri": "https://localhost:8080/",
          "height": 343
        },
        "outputId": "e0702107-2a3b-40f3-db0b-5af84ec3949e"
      },
      "source": [
        "#Load the data\n",
        "from google.colab import files # Use to load data on Google Colab\n",
        "uploaded = files.upload() # Use to load data on Google Colab\n",
        "df = pd.read_csv('data.csv')\n",
        "df.head(7)\n"
      ],
      "execution_count": null,
      "outputs": [
        {
          "output_type": "display_data",
          "data": {
            "text/html": [
              "\n",
              "     <input type=\"file\" id=\"files-0634098d-4369-404d-96f3-e838e033eb6f\" name=\"files[]\" multiple disabled />\n",
              "     <output id=\"result-0634098d-4369-404d-96f3-e838e033eb6f\">\n",
              "      Upload widget is only available when the cell has been executed in the\n",
              "      current browser session. Please rerun this cell to enable.\n",
              "      </output>\n",
              "      <script src=\"/nbextensions/google.colab/files.js\"></script> "
            ],
            "text/plain": [
              "<IPython.core.display.HTML object>"
            ]
          },
          "metadata": {
            "tags": []
          }
        },
        {
          "output_type": "stream",
          "text": [
            "Saving data.csv to data (1).csv\n"
          ],
          "name": "stdout"
        },
        {
          "output_type": "execute_result",
          "data": {
            "text/html": [
              "<div>\n",
              "<style scoped>\n",
              "    .dataframe tbody tr th:only-of-type {\n",
              "        vertical-align: middle;\n",
              "    }\n",
              "\n",
              "    .dataframe tbody tr th {\n",
              "        vertical-align: top;\n",
              "    }\n",
              "\n",
              "    .dataframe thead th {\n",
              "        text-align: right;\n",
              "    }\n",
              "</style>\n",
              "<table border=\"1\" class=\"dataframe\">\n",
              "  <thead>\n",
              "    <tr style=\"text-align: right;\">\n",
              "      <th></th>\n",
              "      <th>attrib_name</th>\n",
              "      <th>years_to_birth</th>\n",
              "      <th>Tumor_purity</th>\n",
              "      <th>pathologic_stage</th>\n",
              "      <th>pathology_T_stage</th>\n",
              "      <th>pathology_N_stage</th>\n",
              "      <th>pathology_M_stage</th>\n",
              "      <th>histological_type</th>\n",
              "      <th>number_of_lymph_nodes</th>\n",
              "      <th>PAM50</th>\n",
              "      <th>ER.Status</th>\n",
              "      <th>PR.Status</th>\n",
              "      <th>HER2.Status</th>\n",
              "      <th>gender</th>\n",
              "      <th>radiation_therapy</th>\n",
              "      <th>race</th>\n",
              "      <th>ethnicity</th>\n",
              "      <th>Median_overall_survival</th>\n",
              "      <th>overall_survival</th>\n",
              "      <th>status</th>\n",
              "      <th>overallsurvival</th>\n",
              "    </tr>\n",
              "  </thead>\n",
              "  <tbody>\n",
              "    <tr>\n",
              "      <th>0</th>\n",
              "      <td>TCGA.5L.AAT0</td>\n",
              "      <td>42.0</td>\n",
              "      <td>0.6501</td>\n",
              "      <td>stageii</td>\n",
              "      <td>t2</td>\n",
              "      <td>n0</td>\n",
              "      <td>m0</td>\n",
              "      <td>infiltratinglobularcarcinoma</td>\n",
              "      <td>0.0</td>\n",
              "      <td>NaN</td>\n",
              "      <td>NaN</td>\n",
              "      <td>NaN</td>\n",
              "      <td>NaN</td>\n",
              "      <td>female</td>\n",
              "      <td>yes</td>\n",
              "      <td>white</td>\n",
              "      <td>hispanicorlatino</td>\n",
              "      <td>0.0</td>\n",
              "      <td>1477.0</td>\n",
              "      <td>0.0</td>\n",
              "      <td>1477,0</td>\n",
              "    </tr>\n",
              "    <tr>\n",
              "      <th>1</th>\n",
              "      <td>TCGA.5L.AAT1</td>\n",
              "      <td>63.0</td>\n",
              "      <td>0.5553</td>\n",
              "      <td>stageiv</td>\n",
              "      <td>t2</td>\n",
              "      <td>n0</td>\n",
              "      <td>m1</td>\n",
              "      <td>infiltratinglobularcarcinoma</td>\n",
              "      <td>0.0</td>\n",
              "      <td>NaN</td>\n",
              "      <td>NaN</td>\n",
              "      <td>NaN</td>\n",
              "      <td>NaN</td>\n",
              "      <td>female</td>\n",
              "      <td>no</td>\n",
              "      <td>white</td>\n",
              "      <td>hispanicorlatino</td>\n",
              "      <td>0.0</td>\n",
              "      <td>1471.0</td>\n",
              "      <td>0.0</td>\n",
              "      <td>1471,0</td>\n",
              "    </tr>\n",
              "    <tr>\n",
              "      <th>2</th>\n",
              "      <td>TCGA.A1.A0SP</td>\n",
              "      <td>40.0</td>\n",
              "      <td>0.6913</td>\n",
              "      <td>stageii</td>\n",
              "      <td>t2</td>\n",
              "      <td>n0</td>\n",
              "      <td>m0</td>\n",
              "      <td>infiltratingductalcarcinoma</td>\n",
              "      <td>0.0</td>\n",
              "      <td>Basal</td>\n",
              "      <td>NaN</td>\n",
              "      <td>NaN</td>\n",
              "      <td>NaN</td>\n",
              "      <td>female</td>\n",
              "      <td>NaN</td>\n",
              "      <td>NaN</td>\n",
              "      <td>nothispanicorlatino</td>\n",
              "      <td>0.0</td>\n",
              "      <td>584.0</td>\n",
              "      <td>0.0</td>\n",
              "      <td>584,0</td>\n",
              "    </tr>\n",
              "    <tr>\n",
              "      <th>3</th>\n",
              "      <td>TCGA.A2.A04V</td>\n",
              "      <td>39.0</td>\n",
              "      <td>0.8341</td>\n",
              "      <td>stageii</td>\n",
              "      <td>t2</td>\n",
              "      <td>n0</td>\n",
              "      <td>m0</td>\n",
              "      <td>infiltratingductalcarcinoma</td>\n",
              "      <td>0.0</td>\n",
              "      <td>LumA</td>\n",
              "      <td>NaN</td>\n",
              "      <td>NaN</td>\n",
              "      <td>NaN</td>\n",
              "      <td>female</td>\n",
              "      <td>no</td>\n",
              "      <td>white</td>\n",
              "      <td>nothispanicorlatino</td>\n",
              "      <td>0.0</td>\n",
              "      <td>1920.0</td>\n",
              "      <td>1.0</td>\n",
              "      <td>1920,1</td>\n",
              "    </tr>\n",
              "    <tr>\n",
              "      <th>4</th>\n",
              "      <td>TCGA.A2.A04Y</td>\n",
              "      <td>53.0</td>\n",
              "      <td>0.7318</td>\n",
              "      <td>stageii</td>\n",
              "      <td>t2</td>\n",
              "      <td>n1</td>\n",
              "      <td>m0</td>\n",
              "      <td>infiltratingductalcarcinoma</td>\n",
              "      <td>1.0</td>\n",
              "      <td>LumB</td>\n",
              "      <td>NaN</td>\n",
              "      <td>NaN</td>\n",
              "      <td>NaN</td>\n",
              "      <td>female</td>\n",
              "      <td>yes</td>\n",
              "      <td>white</td>\n",
              "      <td>NaN</td>\n",
              "      <td>0.0</td>\n",
              "      <td>1099.0</td>\n",
              "      <td>0.0</td>\n",
              "      <td>1099,0</td>\n",
              "    </tr>\n",
              "    <tr>\n",
              "      <th>5</th>\n",
              "      <td>TCGA.A2.A0CQ</td>\n",
              "      <td>62.0</td>\n",
              "      <td>0.7701</td>\n",
              "      <td>stagei</td>\n",
              "      <td>t1</td>\n",
              "      <td>n0</td>\n",
              "      <td>m0</td>\n",
              "      <td>infiltratingductalcarcinoma</td>\n",
              "      <td>0.0</td>\n",
              "      <td>LumA</td>\n",
              "      <td>NaN</td>\n",
              "      <td>NaN</td>\n",
              "      <td>NaN</td>\n",
              "      <td>female</td>\n",
              "      <td>yes</td>\n",
              "      <td>blackorafricanamerican</td>\n",
              "      <td>nothispanicorlatino</td>\n",
              "      <td>0.0</td>\n",
              "      <td>2695.0</td>\n",
              "      <td>0.0</td>\n",
              "      <td>2695,0</td>\n",
              "    </tr>\n",
              "    <tr>\n",
              "      <th>6</th>\n",
              "      <td>TCGA.A2.A1G4</td>\n",
              "      <td>71.0</td>\n",
              "      <td>0.8879</td>\n",
              "      <td>stageiii</td>\n",
              "      <td>t3</td>\n",
              "      <td>n1</td>\n",
              "      <td>m0</td>\n",
              "      <td>infiltratingductalcarcinoma</td>\n",
              "      <td>2.0</td>\n",
              "      <td>LumB</td>\n",
              "      <td>NaN</td>\n",
              "      <td>NaN</td>\n",
              "      <td>NaN</td>\n",
              "      <td>female</td>\n",
              "      <td>no</td>\n",
              "      <td>white</td>\n",
              "      <td>nothispanicorlatino</td>\n",
              "      <td>0.0</td>\n",
              "      <td>595.0</td>\n",
              "      <td>0.0</td>\n",
              "      <td>595,0</td>\n",
              "    </tr>\n",
              "  </tbody>\n",
              "</table>\n",
              "</div>"
            ],
            "text/plain": [
              "    attrib_name  years_to_birth  ...  status overallsurvival\n",
              "0  TCGA.5L.AAT0            42.0  ...     0.0          1477,0\n",
              "1  TCGA.5L.AAT1            63.0  ...     0.0          1471,0\n",
              "2  TCGA.A1.A0SP            40.0  ...     0.0           584,0\n",
              "3  TCGA.A2.A04V            39.0  ...     1.0          1920,1\n",
              "4  TCGA.A2.A04Y            53.0  ...     0.0          1099,0\n",
              "5  TCGA.A2.A0CQ            62.0  ...     0.0          2695,0\n",
              "6  TCGA.A2.A1G4            71.0  ...     0.0           595,0\n",
              "\n",
              "[7 rows x 21 columns]"
            ]
          },
          "metadata": {
            "tags": []
          },
          "execution_count": 15
        }
      ]
    },
    {
      "cell_type": "code",
      "metadata": {
        "id": "ZOa0apHueWcf"
      },
      "source": [
        ""
      ],
      "execution_count": null,
      "outputs": []
    },
    {
      "cell_type": "code",
      "metadata": {
        "id": "JUk8TQLTeWfY"
      },
      "source": [
        ""
      ],
      "execution_count": null,
      "outputs": []
    },
    {
      "cell_type": "code",
      "metadata": {
        "id": "41FPCe5YeWnQ"
      },
      "source": [
        ""
      ],
      "execution_count": null,
      "outputs": []
    },
    {
      "cell_type": "code",
      "metadata": {
        "id": "z_DQnBEaeWsE"
      },
      "source": [
        ""
      ],
      "execution_count": null,
      "outputs": []
    },
    {
      "cell_type": "code",
      "metadata": {
        "id": "GxhaSBQ9eWp_"
      },
      "source": [
        ""
      ],
      "execution_count": null,
      "outputs": []
    },
    {
      "cell_type": "code",
      "metadata": {
        "id": "qgPxDaTseWkO"
      },
      "source": [
        ""
      ],
      "execution_count": null,
      "outputs": []
    },
    {
      "cell_type": "code",
      "metadata": {
        "id": "6h_QlvWteWif"
      },
      "source": [
        ""
      ],
      "execution_count": null,
      "outputs": []
    },
    {
      "cell_type": "code",
      "metadata": {
        "id": "_EV6g8VmeWan"
      },
      "source": [
        ""
      ],
      "execution_count": null,
      "outputs": []
    },
    {
      "cell_type": "code",
      "metadata": {
        "id": "2X8HsAHb07kY",
        "colab": {
          "base_uri": "https://localhost:8080/",
          "height": 34
        },
        "outputId": "6093e57b-6c9c-4dbd-9766-d9af3eee7d1f"
      },
      "source": [
        "\t\n",
        "#Count the number of rows and columns in the data set\n",
        "df.shape\n"
      ],
      "execution_count": null,
      "outputs": [
        {
          "output_type": "execute_result",
          "data": {
            "text/plain": [
              "(1097, 21)"
            ]
          },
          "metadata": {
            "tags": []
          },
          "execution_count": 6
        }
      ]
    },
    {
      "cell_type": "code",
      "metadata": {
        "id": "cf-Dshfm1YzP"
      },
      "source": [
        "\n",
        "#Create a list of columns to retain\n",
        "columns_to_retain = [ \"years_to_birth\", \"Tumor_purity\",\"pathologic_stage\",  \"pathology_T_stage\",  \"pathology_N_stage\" ,\"pathology_M_stage\", \"histological_type\",  \"number_of_lymph_nodes\",  \"PAM50\" ,\"gender\",  \"radiation_therapy\" ,\"race\",  \"ethnicity\",  \"Median_overall_survival\",  \"overall_survival\",\"status\"]\n",
        "\n",
        "#columns_to_retain = df.columns, Drop the columns that are not in columns_to_retain\n",
        "df = df.drop([col for col in df.columns if not col in columns_to_retain], axis=1)\n"
      ],
      "execution_count": null,
      "outputs": []
    },
    {
      "cell_type": "code",
      "metadata": {
        "id": "HfaoGUhe1Y71",
        "colab": {
          "base_uri": "https://localhost:8080/",
          "height": 34
        },
        "outputId": "cdfe24e3-cea1-4dfc-fdca-0bcc71a07e5b"
      },
      "source": [
        "df.shape"
      ],
      "execution_count": null,
      "outputs": [
        {
          "output_type": "execute_result",
          "data": {
            "text/plain": [
              "(1097, 16)"
            ]
          },
          "metadata": {
            "tags": []
          },
          "execution_count": 17
        }
      ]
    },
    {
      "cell_type": "code",
      "metadata": {
        "id": "C0UZoA2_i9LO",
        "colab": {
          "base_uri": "https://localhost:8080/",
          "height": 306
        },
        "outputId": "d5546466-c690-42ae-fe4e-1797d323c6e0"
      },
      "source": [
        "df.dtypes"
      ],
      "execution_count": null,
      "outputs": [
        {
          "output_type": "execute_result",
          "data": {
            "text/plain": [
              "years_to_birth             float64\n",
              "Tumor_purity               float64\n",
              "pathologic_stage            object\n",
              "pathology_T_stage           object\n",
              "pathology_N_stage           object\n",
              "pathology_M_stage           object\n",
              "histological_type           object\n",
              "number_of_lymph_nodes      float64\n",
              "PAM50                       object\n",
              "gender                      object\n",
              "radiation_therapy           object\n",
              "race                        object\n",
              "ethnicity                   object\n",
              "Median_overall_survival    float64\n",
              "overall_survival           float64\n",
              "status                     float64\n",
              "dtype: object"
            ]
          },
          "metadata": {
            "tags": []
          },
          "execution_count": 18
        }
      ]
    },
    {
      "cell_type": "code",
      "metadata": {
        "id": "aoLGM6bX1Y-z"
      },
      "source": [
        "# Drop the rows with na or missing values\n",
        "df = df.dropna(axis=0)\n"
      ],
      "execution_count": null,
      "outputs": []
    },
    {
      "cell_type": "code",
      "metadata": {
        "id": "rcXymwBkiiZ0",
        "colab": {
          "base_uri": "https://localhost:8080/",
          "height": 34
        },
        "outputId": "db383a40-a3ca-49b5-9829-41e11f213673"
      },
      "source": [
        "df.shape"
      ],
      "execution_count": null,
      "outputs": [
        {
          "output_type": "execute_result",
          "data": {
            "text/plain": [
              "(460, 16)"
            ]
          },
          "metadata": {
            "tags": []
          },
          "execution_count": 21
        }
      ]
    },
    {
      "cell_type": "code",
      "metadata": {
        "id": "bprENwHliijW"
      },
      "source": [
        "#Encoding categorical data values (Transforming categorical data/ Strings to integers)\n",
        "from sklearn.preprocessing import LabelEncoder\n",
        "labelencoder_Y = LabelEncoder()\n",
        "df.iloc[:,2]= labelencoder_Y.fit_transform(df.iloc[:,2].values)\n",
        "df.iloc[:,3]= labelencoder_Y.fit_transform(df.iloc[:,3].values)\n",
        "df.iloc[:,4]= labelencoder_Y.fit_transform(df.iloc[:,4].values)\n",
        "df.iloc[:,5]= labelencoder_Y.fit_transform(df.iloc[:,5].values)\n",
        "df.iloc[:,6]= labelencoder_Y.fit_transform(df.iloc[:,6].values)\n",
        "df.iloc[:,8]= labelencoder_Y.fit_transform(df.iloc[:,8].values)\n",
        "df.iloc[:,9]= labelencoder_Y.fit_transform(df.iloc[:,9].values)\n",
        "df.iloc[:,10]= labelencoder_Y.fit_transform(df.iloc[:,10].values)\n",
        "df.iloc[:,11]= labelencoder_Y.fit_transform(df.iloc[:,11].values)\n",
        "df.iloc[:,12]= labelencoder_Y.fit_transform(df.iloc[:,12].values)\n",
        "#df.iloc[:,13]= labelencoder_Y.fit_transform(df.iloc[:,13].values)"
      ],
      "execution_count": null,
      "outputs": []
    },
    {
      "cell_type": "code",
      "metadata": {
        "id": "5de-WhHSiigj"
      },
      "source": [
        ""
      ],
      "execution_count": null,
      "outputs": []
    },
    {
      "cell_type": "code",
      "metadata": {
        "id": "c3Os9T_EiieJ"
      },
      "source": [
        ""
      ],
      "execution_count": null,
      "outputs": []
    },
    {
      "cell_type": "code",
      "metadata": {
        "id": "0LqkVA4UiSGs"
      },
      "source": [
        ""
      ],
      "execution_count": null,
      "outputs": []
    },
    {
      "cell_type": "code",
      "metadata": {
        "id": "0ftLNFIqiSEz"
      },
      "source": [
        ""
      ],
      "execution_count": null,
      "outputs": []
    },
    {
      "cell_type": "code",
      "metadata": {
        "id": "kFnNi7I8iSCR"
      },
      "source": [
        ""
      ],
      "execution_count": null,
      "outputs": []
    },
    {
      "cell_type": "code",
      "metadata": {
        "id": "7rzce6TLiR_W"
      },
      "source": [
        ""
      ],
      "execution_count": null,
      "outputs": []
    },
    {
      "cell_type": "code",
      "metadata": {
        "id": "lTreIgc0iR5P"
      },
      "source": [
        ""
      ],
      "execution_count": null,
      "outputs": []
    },
    {
      "cell_type": "code",
      "metadata": {
        "id": "OQR8Q9GeiR11"
      },
      "source": [
        ""
      ],
      "execution_count": null,
      "outputs": []
    },
    {
      "cell_type": "code",
      "metadata": {
        "id": "GtWtTWl7Um1q",
        "colab": {
          "base_uri": "https://localhost:8080/",
          "height": 286
        },
        "outputId": "cdd0490a-ec5f-49e2-f400-45b2d5de2fd6"
      },
      "source": [
        "df.head(7)"
      ],
      "execution_count": null,
      "outputs": [
        {
          "output_type": "execute_result",
          "data": {
            "text/html": [
              "<div>\n",
              "<style scoped>\n",
              "    .dataframe tbody tr th:only-of-type {\n",
              "        vertical-align: middle;\n",
              "    }\n",
              "\n",
              "    .dataframe tbody tr th {\n",
              "        vertical-align: top;\n",
              "    }\n",
              "\n",
              "    .dataframe thead th {\n",
              "        text-align: right;\n",
              "    }\n",
              "</style>\n",
              "<table border=\"1\" class=\"dataframe\">\n",
              "  <thead>\n",
              "    <tr style=\"text-align: right;\">\n",
              "      <th></th>\n",
              "      <th>years_to_birth</th>\n",
              "      <th>Tumor_purity</th>\n",
              "      <th>pathologic_stage</th>\n",
              "      <th>pathology_T_stage</th>\n",
              "      <th>pathology_N_stage</th>\n",
              "      <th>pathology_M_stage</th>\n",
              "      <th>histological_type</th>\n",
              "      <th>number_of_lymph_nodes</th>\n",
              "      <th>PAM50</th>\n",
              "      <th>gender</th>\n",
              "      <th>radiation_therapy</th>\n",
              "      <th>race</th>\n",
              "      <th>ethnicity</th>\n",
              "      <th>Median_overall_survival</th>\n",
              "      <th>overall_survival</th>\n",
              "      <th>status</th>\n",
              "    </tr>\n",
              "  </thead>\n",
              "  <tbody>\n",
              "    <tr>\n",
              "      <th>3</th>\n",
              "      <td>39.0</td>\n",
              "      <td>0.8341</td>\n",
              "      <td>1</td>\n",
              "      <td>1</td>\n",
              "      <td>0</td>\n",
              "      <td>0</td>\n",
              "      <td>0</td>\n",
              "      <td>0.0</td>\n",
              "      <td>2</td>\n",
              "      <td>0</td>\n",
              "      <td>0</td>\n",
              "      <td>2</td>\n",
              "      <td>1</td>\n",
              "      <td>0.0</td>\n",
              "      <td>1920.0</td>\n",
              "      <td>1.0</td>\n",
              "    </tr>\n",
              "    <tr>\n",
              "      <th>5</th>\n",
              "      <td>62.0</td>\n",
              "      <td>0.7701</td>\n",
              "      <td>0</td>\n",
              "      <td>0</td>\n",
              "      <td>0</td>\n",
              "      <td>0</td>\n",
              "      <td>0</td>\n",
              "      <td>0.0</td>\n",
              "      <td>2</td>\n",
              "      <td>0</td>\n",
              "      <td>1</td>\n",
              "      <td>1</td>\n",
              "      <td>1</td>\n",
              "      <td>0.0</td>\n",
              "      <td>2695.0</td>\n",
              "      <td>0.0</td>\n",
              "    </tr>\n",
              "    <tr>\n",
              "      <th>6</th>\n",
              "      <td>71.0</td>\n",
              "      <td>0.8879</td>\n",
              "      <td>2</td>\n",
              "      <td>2</td>\n",
              "      <td>1</td>\n",
              "      <td>0</td>\n",
              "      <td>0</td>\n",
              "      <td>2.0</td>\n",
              "      <td>3</td>\n",
              "      <td>0</td>\n",
              "      <td>0</td>\n",
              "      <td>2</td>\n",
              "      <td>1</td>\n",
              "      <td>0.0</td>\n",
              "      <td>595.0</td>\n",
              "      <td>0.0</td>\n",
              "    </tr>\n",
              "    <tr>\n",
              "      <th>8</th>\n",
              "      <td>66.0</td>\n",
              "      <td>0.8525</td>\n",
              "      <td>0</td>\n",
              "      <td>0</td>\n",
              "      <td>0</td>\n",
              "      <td>0</td>\n",
              "      <td>0</td>\n",
              "      <td>0.0</td>\n",
              "      <td>2</td>\n",
              "      <td>0</td>\n",
              "      <td>1</td>\n",
              "      <td>2</td>\n",
              "      <td>1</td>\n",
              "      <td>0.0</td>\n",
              "      <td>1165.0</td>\n",
              "      <td>0.0</td>\n",
              "    </tr>\n",
              "    <tr>\n",
              "      <th>11</th>\n",
              "      <td>55.0</td>\n",
              "      <td>0.6312</td>\n",
              "      <td>0</td>\n",
              "      <td>0</td>\n",
              "      <td>0</td>\n",
              "      <td>0</td>\n",
              "      <td>6</td>\n",
              "      <td>0.0</td>\n",
              "      <td>0</td>\n",
              "      <td>0</td>\n",
              "      <td>1</td>\n",
              "      <td>2</td>\n",
              "      <td>1</td>\n",
              "      <td>0.0</td>\n",
              "      <td>738.0</td>\n",
              "      <td>0.0</td>\n",
              "    </tr>\n",
              "    <tr>\n",
              "      <th>12</th>\n",
              "      <td>72.0</td>\n",
              "      <td>0.7811</td>\n",
              "      <td>1</td>\n",
              "      <td>0</td>\n",
              "      <td>1</td>\n",
              "      <td>0</td>\n",
              "      <td>0</td>\n",
              "      <td>0.0</td>\n",
              "      <td>2</td>\n",
              "      <td>0</td>\n",
              "      <td>0</td>\n",
              "      <td>2</td>\n",
              "      <td>1</td>\n",
              "      <td>0.0</td>\n",
              "      <td>724.0</td>\n",
              "      <td>0.0</td>\n",
              "    </tr>\n",
              "    <tr>\n",
              "      <th>13</th>\n",
              "      <td>65.0</td>\n",
              "      <td>0.7381</td>\n",
              "      <td>1</td>\n",
              "      <td>1</td>\n",
              "      <td>0</td>\n",
              "      <td>0</td>\n",
              "      <td>0</td>\n",
              "      <td>0.0</td>\n",
              "      <td>0</td>\n",
              "      <td>0</td>\n",
              "      <td>1</td>\n",
              "      <td>2</td>\n",
              "      <td>1</td>\n",
              "      <td>0.0</td>\n",
              "      <td>661.0</td>\n",
              "      <td>0.0</td>\n",
              "    </tr>\n",
              "  </tbody>\n",
              "</table>\n",
              "</div>"
            ],
            "text/plain": [
              "    years_to_birth  Tumor_purity  ...  overall_survival  status\n",
              "3             39.0        0.8341  ...            1920.0     1.0\n",
              "5             62.0        0.7701  ...            2695.0     0.0\n",
              "6             71.0        0.8879  ...             595.0     0.0\n",
              "8             66.0        0.8525  ...            1165.0     0.0\n",
              "11            55.0        0.6312  ...             738.0     0.0\n",
              "12            72.0        0.7811  ...             724.0     0.0\n",
              "13            65.0        0.7381  ...             661.0     0.0\n",
              "\n",
              "[7 rows x 16 columns]"
            ]
          },
          "metadata": {
            "tags": []
          },
          "execution_count": 23
        }
      ]
    },
    {
      "cell_type": "code",
      "metadata": {
        "id": "LkUzPvZZEIeF",
        "colab": {
          "base_uri": "https://localhost:8080/",
          "height": 565
        },
        "outputId": "45d1d116-0b81-4673-8382-2a0505a4d9b2"
      },
      "source": [
        "corrmat = df.corr()\n",
        "corrmat"
      ],
      "execution_count": null,
      "outputs": [
        {
          "output_type": "execute_result",
          "data": {
            "text/html": [
              "<div>\n",
              "<style scoped>\n",
              "    .dataframe tbody tr th:only-of-type {\n",
              "        vertical-align: middle;\n",
              "    }\n",
              "\n",
              "    .dataframe tbody tr th {\n",
              "        vertical-align: top;\n",
              "    }\n",
              "\n",
              "    .dataframe thead th {\n",
              "        text-align: right;\n",
              "    }\n",
              "</style>\n",
              "<table border=\"1\" class=\"dataframe\">\n",
              "  <thead>\n",
              "    <tr style=\"text-align: right;\">\n",
              "      <th></th>\n",
              "      <th>years_to_birth</th>\n",
              "      <th>Tumor_purity</th>\n",
              "      <th>pathologic_stage</th>\n",
              "      <th>pathology_T_stage</th>\n",
              "      <th>pathology_N_stage</th>\n",
              "      <th>pathology_M_stage</th>\n",
              "      <th>histological_type</th>\n",
              "      <th>number_of_lymph_nodes</th>\n",
              "      <th>PAM50</th>\n",
              "      <th>gender</th>\n",
              "      <th>radiation_therapy</th>\n",
              "      <th>race</th>\n",
              "      <th>ethnicity</th>\n",
              "      <th>Median_overall_survival</th>\n",
              "      <th>overall_survival</th>\n",
              "      <th>status</th>\n",
              "    </tr>\n",
              "  </thead>\n",
              "  <tbody>\n",
              "    <tr>\n",
              "      <th>years_to_birth</th>\n",
              "      <td>1.000000</td>\n",
              "      <td>0.080543</td>\n",
              "      <td>-0.036723</td>\n",
              "      <td>-0.007037</td>\n",
              "      <td>-0.013687</td>\n",
              "      <td>0.050664</td>\n",
              "      <td>0.052984</td>\n",
              "      <td>0.040357</td>\n",
              "      <td>0.096298</td>\n",
              "      <td>0.068070</td>\n",
              "      <td>-0.106078</td>\n",
              "      <td>0.140386</td>\n",
              "      <td>0.012235</td>\n",
              "      <td>-0.077610</td>\n",
              "      <td>-0.175299</td>\n",
              "      <td>0.086013</td>\n",
              "    </tr>\n",
              "    <tr>\n",
              "      <th>Tumor_purity</th>\n",
              "      <td>0.080543</td>\n",
              "      <td>1.000000</td>\n",
              "      <td>0.091058</td>\n",
              "      <td>0.075346</td>\n",
              "      <td>0.105961</td>\n",
              "      <td>0.049993</td>\n",
              "      <td>0.072036</td>\n",
              "      <td>0.043145</td>\n",
              "      <td>0.221957</td>\n",
              "      <td>0.018817</td>\n",
              "      <td>-0.109497</td>\n",
              "      <td>0.028342</td>\n",
              "      <td>-0.030575</td>\n",
              "      <td>0.098947</td>\n",
              "      <td>0.008719</td>\n",
              "      <td>0.048785</td>\n",
              "    </tr>\n",
              "    <tr>\n",
              "      <th>pathologic_stage</th>\n",
              "      <td>-0.036723</td>\n",
              "      <td>0.091058</td>\n",
              "      <td>1.000000</td>\n",
              "      <td>0.690741</td>\n",
              "      <td>0.715546</td>\n",
              "      <td>0.309671</td>\n",
              "      <td>0.064186</td>\n",
              "      <td>0.544579</td>\n",
              "      <td>0.026427</td>\n",
              "      <td>0.052298</td>\n",
              "      <td>0.087868</td>\n",
              "      <td>0.010936</td>\n",
              "      <td>0.053406</td>\n",
              "      <td>0.007103</td>\n",
              "      <td>-0.052917</td>\n",
              "      <td>0.243603</td>\n",
              "    </tr>\n",
              "    <tr>\n",
              "      <th>pathology_T_stage</th>\n",
              "      <td>-0.007037</td>\n",
              "      <td>0.075346</td>\n",
              "      <td>0.690741</td>\n",
              "      <td>1.000000</td>\n",
              "      <td>0.259555</td>\n",
              "      <td>0.113283</td>\n",
              "      <td>0.113790</td>\n",
              "      <td>0.225397</td>\n",
              "      <td>-0.007752</td>\n",
              "      <td>0.045772</td>\n",
              "      <td>-0.006496</td>\n",
              "      <td>-0.044854</td>\n",
              "      <td>0.038695</td>\n",
              "      <td>0.106319</td>\n",
              "      <td>0.041667</td>\n",
              "      <td>0.188542</td>\n",
              "    </tr>\n",
              "    <tr>\n",
              "      <th>pathology_N_stage</th>\n",
              "      <td>-0.013687</td>\n",
              "      <td>0.105961</td>\n",
              "      <td>0.715546</td>\n",
              "      <td>0.259555</td>\n",
              "      <td>1.000000</td>\n",
              "      <td>0.247692</td>\n",
              "      <td>-0.018365</td>\n",
              "      <td>0.769065</td>\n",
              "      <td>0.119844</td>\n",
              "      <td>0.044048</td>\n",
              "      <td>0.172909</td>\n",
              "      <td>0.018676</td>\n",
              "      <td>0.049697</td>\n",
              "      <td>-0.021577</td>\n",
              "      <td>-0.047465</td>\n",
              "      <td>0.206051</td>\n",
              "    </tr>\n",
              "    <tr>\n",
              "      <th>pathology_M_stage</th>\n",
              "      <td>0.050664</td>\n",
              "      <td>0.049993</td>\n",
              "      <td>0.309671</td>\n",
              "      <td>0.113283</td>\n",
              "      <td>0.247692</td>\n",
              "      <td>1.000000</td>\n",
              "      <td>-0.056571</td>\n",
              "      <td>0.213273</td>\n",
              "      <td>-0.013958</td>\n",
              "      <td>-0.015294</td>\n",
              "      <td>-0.022890</td>\n",
              "      <td>0.051289</td>\n",
              "      <td>0.027614</td>\n",
              "      <td>0.041461</td>\n",
              "      <td>0.088480</td>\n",
              "      <td>0.282876</td>\n",
              "    </tr>\n",
              "    <tr>\n",
              "      <th>histological_type</th>\n",
              "      <td>0.052984</td>\n",
              "      <td>0.072036</td>\n",
              "      <td>0.064186</td>\n",
              "      <td>0.113790</td>\n",
              "      <td>-0.018365</td>\n",
              "      <td>-0.056571</td>\n",
              "      <td>1.000000</td>\n",
              "      <td>0.051943</td>\n",
              "      <td>0.037808</td>\n",
              "      <td>0.030574</td>\n",
              "      <td>-0.041145</td>\n",
              "      <td>0.048706</td>\n",
              "      <td>0.035407</td>\n",
              "      <td>0.063757</td>\n",
              "      <td>0.022092</td>\n",
              "      <td>0.024426</td>\n",
              "    </tr>\n",
              "    <tr>\n",
              "      <th>number_of_lymph_nodes</th>\n",
              "      <td>0.040357</td>\n",
              "      <td>0.043145</td>\n",
              "      <td>0.544579</td>\n",
              "      <td>0.225397</td>\n",
              "      <td>0.769065</td>\n",
              "      <td>0.213273</td>\n",
              "      <td>0.051943</td>\n",
              "      <td>1.000000</td>\n",
              "      <td>0.069552</td>\n",
              "      <td>0.077992</td>\n",
              "      <td>0.131006</td>\n",
              "      <td>0.017855</td>\n",
              "      <td>0.071315</td>\n",
              "      <td>0.067321</td>\n",
              "      <td>0.024410</td>\n",
              "      <td>0.245148</td>\n",
              "    </tr>\n",
              "    <tr>\n",
              "      <th>PAM50</th>\n",
              "      <td>0.096298</td>\n",
              "      <td>0.221957</td>\n",
              "      <td>0.026427</td>\n",
              "      <td>-0.007752</td>\n",
              "      <td>0.119844</td>\n",
              "      <td>-0.013958</td>\n",
              "      <td>0.037808</td>\n",
              "      <td>0.069552</td>\n",
              "      <td>1.000000</td>\n",
              "      <td>0.107098</td>\n",
              "      <td>0.011032</td>\n",
              "      <td>0.212816</td>\n",
              "      <td>0.042159</td>\n",
              "      <td>-0.050199</td>\n",
              "      <td>-0.044478</td>\n",
              "      <td>0.001576</td>\n",
              "    </tr>\n",
              "    <tr>\n",
              "      <th>gender</th>\n",
              "      <td>0.068070</td>\n",
              "      <td>0.018817</td>\n",
              "      <td>0.052298</td>\n",
              "      <td>0.045772</td>\n",
              "      <td>0.044048</td>\n",
              "      <td>-0.015294</td>\n",
              "      <td>0.030574</td>\n",
              "      <td>0.077992</td>\n",
              "      <td>0.107098</td>\n",
              "      <td>1.000000</td>\n",
              "      <td>-0.058663</td>\n",
              "      <td>-0.001597</td>\n",
              "      <td>-0.168708</td>\n",
              "      <td>-0.027560</td>\n",
              "      <td>-0.035094</td>\n",
              "      <td>-0.046216</td>\n",
              "    </tr>\n",
              "    <tr>\n",
              "      <th>radiation_therapy</th>\n",
              "      <td>-0.106078</td>\n",
              "      <td>-0.109497</td>\n",
              "      <td>0.087868</td>\n",
              "      <td>-0.006496</td>\n",
              "      <td>0.172909</td>\n",
              "      <td>-0.022890</td>\n",
              "      <td>-0.041145</td>\n",
              "      <td>0.131006</td>\n",
              "      <td>0.011032</td>\n",
              "      <td>-0.058663</td>\n",
              "      <td>1.000000</td>\n",
              "      <td>0.076904</td>\n",
              "      <td>-0.064052</td>\n",
              "      <td>0.026864</td>\n",
              "      <td>0.059879</td>\n",
              "      <td>-0.081917</td>\n",
              "    </tr>\n",
              "    <tr>\n",
              "      <th>race</th>\n",
              "      <td>0.140386</td>\n",
              "      <td>0.028342</td>\n",
              "      <td>0.010936</td>\n",
              "      <td>-0.044854</td>\n",
              "      <td>0.018676</td>\n",
              "      <td>0.051289</td>\n",
              "      <td>0.048706</td>\n",
              "      <td>0.017855</td>\n",
              "      <td>0.212816</td>\n",
              "      <td>-0.001597</td>\n",
              "      <td>0.076904</td>\n",
              "      <td>1.000000</td>\n",
              "      <td>-0.053841</td>\n",
              "      <td>0.023480</td>\n",
              "      <td>-0.013277</td>\n",
              "      <td>-0.070817</td>\n",
              "    </tr>\n",
              "    <tr>\n",
              "      <th>ethnicity</th>\n",
              "      <td>0.012235</td>\n",
              "      <td>-0.030575</td>\n",
              "      <td>0.053406</td>\n",
              "      <td>0.038695</td>\n",
              "      <td>0.049697</td>\n",
              "      <td>0.027614</td>\n",
              "      <td>0.035407</td>\n",
              "      <td>0.071315</td>\n",
              "      <td>0.042159</td>\n",
              "      <td>-0.168708</td>\n",
              "      <td>-0.064052</td>\n",
              "      <td>-0.053841</td>\n",
              "      <td>1.000000</td>\n",
              "      <td>-0.094806</td>\n",
              "      <td>-0.008865</td>\n",
              "      <td>0.051879</td>\n",
              "    </tr>\n",
              "    <tr>\n",
              "      <th>Median_overall_survival</th>\n",
              "      <td>-0.077610</td>\n",
              "      <td>0.098947</td>\n",
              "      <td>0.007103</td>\n",
              "      <td>0.106319</td>\n",
              "      <td>-0.021577</td>\n",
              "      <td>0.041461</td>\n",
              "      <td>0.063757</td>\n",
              "      <td>0.067321</td>\n",
              "      <td>-0.050199</td>\n",
              "      <td>-0.027560</td>\n",
              "      <td>0.026864</td>\n",
              "      <td>0.023480</td>\n",
              "      <td>-0.094806</td>\n",
              "      <td>1.000000</td>\n",
              "      <td>0.717996</td>\n",
              "      <td>0.042164</td>\n",
              "    </tr>\n",
              "    <tr>\n",
              "      <th>overall_survival</th>\n",
              "      <td>-0.175299</td>\n",
              "      <td>0.008719</td>\n",
              "      <td>-0.052917</td>\n",
              "      <td>0.041667</td>\n",
              "      <td>-0.047465</td>\n",
              "      <td>0.088480</td>\n",
              "      <td>0.022092</td>\n",
              "      <td>0.024410</td>\n",
              "      <td>-0.044478</td>\n",
              "      <td>-0.035094</td>\n",
              "      <td>0.059879</td>\n",
              "      <td>-0.013277</td>\n",
              "      <td>-0.008865</td>\n",
              "      <td>0.717996</td>\n",
              "      <td>1.000000</td>\n",
              "      <td>0.061208</td>\n",
              "    </tr>\n",
              "    <tr>\n",
              "      <th>status</th>\n",
              "      <td>0.086013</td>\n",
              "      <td>0.048785</td>\n",
              "      <td>0.243603</td>\n",
              "      <td>0.188542</td>\n",
              "      <td>0.206051</td>\n",
              "      <td>0.282876</td>\n",
              "      <td>0.024426</td>\n",
              "      <td>0.245148</td>\n",
              "      <td>0.001576</td>\n",
              "      <td>-0.046216</td>\n",
              "      <td>-0.081917</td>\n",
              "      <td>-0.070817</td>\n",
              "      <td>0.051879</td>\n",
              "      <td>0.042164</td>\n",
              "      <td>0.061208</td>\n",
              "      <td>1.000000</td>\n",
              "    </tr>\n",
              "  </tbody>\n",
              "</table>\n",
              "</div>"
            ],
            "text/plain": [
              "                         years_to_birth  ...    status\n",
              "years_to_birth                 1.000000  ...  0.086013\n",
              "Tumor_purity                   0.080543  ...  0.048785\n",
              "pathologic_stage              -0.036723  ...  0.243603\n",
              "pathology_T_stage             -0.007037  ...  0.188542\n",
              "pathology_N_stage             -0.013687  ...  0.206051\n",
              "pathology_M_stage              0.050664  ...  0.282876\n",
              "histological_type              0.052984  ...  0.024426\n",
              "number_of_lymph_nodes          0.040357  ...  0.245148\n",
              "PAM50                          0.096298  ...  0.001576\n",
              "gender                         0.068070  ... -0.046216\n",
              "radiation_therapy             -0.106078  ... -0.081917\n",
              "race                           0.140386  ... -0.070817\n",
              "ethnicity                      0.012235  ...  0.051879\n",
              "Median_overall_survival       -0.077610  ...  0.042164\n",
              "overall_survival              -0.175299  ...  0.061208\n",
              "status                         0.086013  ...  1.000000\n",
              "\n",
              "[16 rows x 16 columns]"
            ]
          },
          "metadata": {
            "tags": []
          },
          "execution_count": 24
        }
      ]
    },
    {
      "cell_type": "code",
      "metadata": {
        "id": "MqSP8gMEEIab",
        "colab": {
          "base_uri": "https://localhost:8080/",
          "height": 727
        },
        "outputId": "33bd0f01-b134-4493-e1a7-7402a481543b"
      },
      "source": [
        "fig, ax = plt.subplots(figsize = (18, 10))\n",
        "sns.heatmap(corrmat, annot = True, annot_kws={'size': 12})"
      ],
      "execution_count": null,
      "outputs": [
        {
          "output_type": "execute_result",
          "data": {
            "text/plain": [
              "<matplotlib.axes._subplots.AxesSubplot at 0x7f33cb0f85c0>"
            ]
          },
          "metadata": {
            "tags": []
          },
          "execution_count": 25
        },
        {
          "output_type": "display_data",
          "data": {
            "image/png": "[encoded data removed]",
            "text/plain": [
              "<Figure size 1296x720 with 2 Axes>"
            ]
          },
          "metadata": {
            "tags": []
          }
        }
      ]
    },
    {
      "cell_type": "code",
      "metadata": {
        "id": "eNbtOz7PTPHp",
        "colab": {
          "base_uri": "https://localhost:8080/",
          "height": 119
        },
        "outputId": "4b561d9d-d643-4281-fba3-927789a5ff87"
      },
      "source": [
        "corrmat.index.values"
      ],
      "execution_count": null,
      "outputs": [
        {
          "output_type": "execute_result",
          "data": {
            "text/plain": [
              "array(['years_to_birth', 'Tumor_purity', 'pathologic_stage',\n",
              "       'pathology_T_stage', 'pathology_N_stage', 'pathology_M_stage',\n",
              "       'histological_type', 'number_of_lymph_nodes', 'PAM50', 'gender',\n",
              "       'radiation_therapy', 'race', 'ethnicity',\n",
              "       'Median_overall_survival', 'overall_survival', 'status'],\n",
              "      dtype=object)"
            ]
          },
          "metadata": {
            "tags": []
          },
          "execution_count": 26
        }
      ]
    },
    {
      "cell_type": "code",
      "metadata": {
        "id": "v8iNrt23TPPq"
      },
      "source": [
        "\n",
        "    da = pd.DataFrame(data = value, index = feature, columns=['Corr Value'])\n",
        "    return dadef getCorrelatedFeature(corrdata, threshold):\n",
        "    feature = []\n",
        "    value = []\n",
        "    \n",
        "    for i, index in enumerate(corrdata.index):\n",
        "        if abs(corrdata[index])> threshold:\n",
        "            feature.append(index)\n",
        "            value.append(corrdata[index])\n",
        "            "
      ],
      "execution_count": null,
      "outputs": []
    },
    {
      "cell_type": "code",
      "metadata": {
        "id": "3pNRfCOeTPVT",
        "colab": {
          "base_uri": "https://localhost:8080/",
          "height": 204
        },
        "outputId": "82a14391-89da-4f43-d0c6-f16209d902cb"
      },
      "source": [
        "threshold = 0.20\n",
        "corr_value = getCorrelatedFeature(corrmat['status'], threshold)\n",
        "corr_value"
      ],
      "execution_count": null,
      "outputs": [
        {
          "output_type": "execute_result",
          "data": {
            "text/html": [
              "<div>\n",
              "<style scoped>\n",
              "    .dataframe tbody tr th:only-of-type {\n",
              "        vertical-align: middle;\n",
              "    }\n",
              "\n",
              "    .dataframe tbody tr th {\n",
              "        vertical-align: top;\n",
              "    }\n",
              "\n",
              "    .dataframe thead th {\n",
              "        text-align: right;\n",
              "    }\n",
              "</style>\n",
              "<table border=\"1\" class=\"dataframe\">\n",
              "  <thead>\n",
              "    <tr style=\"text-align: right;\">\n",
              "      <th></th>\n",
              "      <th>Corr Value</th>\n",
              "    </tr>\n",
              "  </thead>\n",
              "  <tbody>\n",
              "    <tr>\n",
              "      <th>pathologic_stage</th>\n",
              "      <td>0.243603</td>\n",
              "    </tr>\n",
              "    <tr>\n",
              "      <th>pathology_N_stage</th>\n",
              "      <td>0.206051</td>\n",
              "    </tr>\n",
              "    <tr>\n",
              "      <th>pathology_M_stage</th>\n",
              "      <td>0.282876</td>\n",
              "    </tr>\n",
              "    <tr>\n",
              "      <th>number_of_lymph_nodes</th>\n",
              "      <td>0.245148</td>\n",
              "    </tr>\n",
              "    <tr>\n",
              "      <th>status</th>\n",
              "      <td>1.000000</td>\n",
              "    </tr>\n",
              "  </tbody>\n",
              "</table>\n",
              "</div>"
            ],
            "text/plain": [
              "                       Corr Value\n",
              "pathologic_stage         0.243603\n",
              "pathology_N_stage        0.206051\n",
              "pathology_M_stage        0.282876\n",
              "number_of_lymph_nodes    0.245148\n",
              "status                   1.000000"
            ]
          },
          "metadata": {
            "tags": []
          },
          "execution_count": 28
        }
      ]
    },
    {
      "cell_type": "code",
      "metadata": {
        "id": "YTAzrCqoTPam",
        "colab": {
          "base_uri": "https://localhost:8080/",
          "height": 51
        },
        "outputId": "7104bc5e-55da-4aa8-9df5-f7a0203956cd"
      },
      "source": [
        "\n",
        "corr_value.index.values"
      ],
      "execution_count": null,
      "outputs": [
        {
          "output_type": "execute_result",
          "data": {
            "text/plain": [
              "array(['pathologic_stage', 'pathology_N_stage', 'pathology_M_stage',\n",
              "       'number_of_lymph_nodes', 'status'], dtype=object)"
            ]
          },
          "metadata": {
            "tags": []
          },
          "execution_count": 29
        }
      ]
    },
    {
      "cell_type": "code",
      "metadata": {
        "id": "0agCi6cDTPYh",
        "colab": {
          "base_uri": "https://localhost:8080/",
          "height": 204
        },
        "outputId": "cec004ae-390b-4205-fa7c-566a4cf12a2d"
      },
      "source": [
        "correlated_data = df[corr_value.index]\n",
        "correlated_data.head()"
      ],
      "execution_count": null,
      "outputs": [
        {
          "output_type": "execute_result",
          "data": {
            "text/html": [
              "<div>\n",
              "<style scoped>\n",
              "    .dataframe tbody tr th:only-of-type {\n",
              "        vertical-align: middle;\n",
              "    }\n",
              "\n",
              "    .dataframe tbody tr th {\n",
              "        vertical-align: top;\n",
              "    }\n",
              "\n",
              "    .dataframe thead th {\n",
              "        text-align: right;\n",
              "    }\n",
              "</style>\n",
              "<table border=\"1\" class=\"dataframe\">\n",
              "  <thead>\n",
              "    <tr style=\"text-align: right;\">\n",
              "      <th></th>\n",
              "      <th>pathologic_stage</th>\n",
              "      <th>pathology_N_stage</th>\n",
              "      <th>pathology_M_stage</th>\n",
              "      <th>number_of_lymph_nodes</th>\n",
              "      <th>status</th>\n",
              "    </tr>\n",
              "  </thead>\n",
              "  <tbody>\n",
              "    <tr>\n",
              "      <th>3</th>\n",
              "      <td>1</td>\n",
              "      <td>0</td>\n",
              "      <td>0</td>\n",
              "      <td>0.0</td>\n",
              "      <td>1.0</td>\n",
              "    </tr>\n",
              "    <tr>\n",
              "      <th>5</th>\n",
              "      <td>0</td>\n",
              "      <td>0</td>\n",
              "      <td>0</td>\n",
              "      <td>0.0</td>\n",
              "      <td>0.0</td>\n",
              "    </tr>\n",
              "    <tr>\n",
              "      <th>6</th>\n",
              "      <td>2</td>\n",
              "      <td>1</td>\n",
              "      <td>0</td>\n",
              "      <td>2.0</td>\n",
              "      <td>0.0</td>\n",
              "    </tr>\n",
              "    <tr>\n",
              "      <th>8</th>\n",
              "      <td>0</td>\n",
              "      <td>0</td>\n",
              "      <td>0</td>\n",
              "      <td>0.0</td>\n",
              "      <td>0.0</td>\n",
              "    </tr>\n",
              "    <tr>\n",
              "      <th>11</th>\n",
              "      <td>0</td>\n",
              "      <td>0</td>\n",
              "      <td>0</td>\n",
              "      <td>0.0</td>\n",
              "      <td>0.0</td>\n",
              "    </tr>\n",
              "  </tbody>\n",
              "</table>\n",
              "</div>"
            ],
            "text/plain": [
              "    pathologic_stage  pathology_N_stage  ...  number_of_lymph_nodes  status\n",
              "3                  1                  0  ...                    0.0     1.0\n",
              "5                  0                  0  ...                    0.0     0.0\n",
              "6                  2                  1  ...                    2.0     0.0\n",
              "8                  0                  0  ...                    0.0     0.0\n",
              "11                 0                  0  ...                    0.0     0.0\n",
              "\n",
              "[5 rows x 5 columns]"
            ]
          },
          "metadata": {
            "tags": []
          },
          "execution_count": 30
        }
      ]
    },
    {
      "cell_type": "code",
      "metadata": {
        "id": "vqUEigmLTPNh",
        "colab": {
          "base_uri": "https://localhost:8080/",
          "height": 909
        },
        "outputId": "257fc349-b6b6-4fde-c6fd-46df118c8bb2"
      },
      "source": [
        "sns.pairplot(correlated_data)\n",
        "plt.tight_layout()"
      ],
      "execution_count": null,
      "outputs": [
        {
          "output_type": "display_data",
          "data": {
            "image/png": "[encoded data removed]",
            "text/plain": [
              "<Figure size 900x900 with 30 Axes>"
            ]
          },
          "metadata": {
            "tags": []
          }
        }
      ]
    },
    {
      "cell_type": "code",
      "metadata": {
        "id": "vADZFDanXnht",
        "colab": {
          "base_uri": "https://localhost:8080/",
          "height": 401
        },
        "outputId": "3c05050c-5be8-4b80-f935-a6d894a10aca"
      },
      "source": [
        "sns.heatmap(correlated_data.corr(), annot=True, annot_kws={'size': 12})"
      ],
      "execution_count": null,
      "outputs": [
        {
          "output_type": "execute_result",
          "data": {
            "text/plain": [
              "<matplotlib.axes._subplots.AxesSubplot at 0x7f33c5408898>"
            ]
          },
          "metadata": {
            "tags": []
          },
          "execution_count": 52
        },
        {
          "output_type": "display_data",
          "data": {
            "image/png": "[encoded data removed]",
            "text/plain": [
              "<Figure size 432x288 with 2 Axes>"
            ]
          },
          "metadata": {
            "tags": []
          }
        }
      ]
    },
    {
      "cell_type": "code",
      "metadata": {
        "id": "1qWnBcUwksul",
        "colab": {
          "base_uri": "https://localhost:8080/",
          "height": 419
        },
        "outputId": "8776794f-b409-4b94-d5d2-68e397d99e76"
      },
      "source": [
        "correlated_data"
      ],
      "execution_count": null,
      "outputs": [
        {
          "output_type": "execute_result",
          "data": {
            "text/html": [
              "<div>\n",
              "<style scoped>\n",
              "    .dataframe tbody tr th:only-of-type {\n",
              "        vertical-align: middle;\n",
              "    }\n",
              "\n",
              "    .dataframe tbody tr th {\n",
              "        vertical-align: top;\n",
              "    }\n",
              "\n",
              "    .dataframe thead th {\n",
              "        text-align: right;\n",
              "    }\n",
              "</style>\n",
              "<table border=\"1\" class=\"dataframe\">\n",
              "  <thead>\n",
              "    <tr style=\"text-align: right;\">\n",
              "      <th></th>\n",
              "      <th>pathologic_stage</th>\n",
              "      <th>pathology_N_stage</th>\n",
              "      <th>pathology_M_stage</th>\n",
              "      <th>number_of_lymph_nodes</th>\n",
              "      <th>status</th>\n",
              "    </tr>\n",
              "  </thead>\n",
              "  <tbody>\n",
              "    <tr>\n",
              "      <th>3</th>\n",
              "      <td>1</td>\n",
              "      <td>0</td>\n",
              "      <td>0</td>\n",
              "      <td>0.0</td>\n",
              "      <td>1.0</td>\n",
              "    </tr>\n",
              "    <tr>\n",
              "      <th>5</th>\n",
              "      <td>0</td>\n",
              "      <td>0</td>\n",
              "      <td>0</td>\n",
              "      <td>0.0</td>\n",
              "      <td>0.0</td>\n",
              "    </tr>\n",
              "    <tr>\n",
              "      <th>6</th>\n",
              "      <td>2</td>\n",
              "      <td>1</td>\n",
              "      <td>0</td>\n",
              "      <td>2.0</td>\n",
              "      <td>0.0</td>\n",
              "    </tr>\n",
              "    <tr>\n",
              "      <th>8</th>\n",
              "      <td>0</td>\n",
              "      <td>0</td>\n",
              "      <td>0</td>\n",
              "      <td>0.0</td>\n",
              "      <td>0.0</td>\n",
              "    </tr>\n",
              "    <tr>\n",
              "      <th>11</th>\n",
              "      <td>0</td>\n",
              "      <td>0</td>\n",
              "      <td>0</td>\n",
              "      <td>0.0</td>\n",
              "      <td>0.0</td>\n",
              "    </tr>\n",
              "    <tr>\n",
              "      <th>...</th>\n",
              "      <td>...</td>\n",
              "      <td>...</td>\n",
              "      <td>...</td>\n",
              "      <td>...</td>\n",
              "      <td>...</td>\n",
              "    </tr>\n",
              "    <tr>\n",
              "      <th>1022</th>\n",
              "      <td>2</td>\n",
              "      <td>1</td>\n",
              "      <td>0</td>\n",
              "      <td>3.0</td>\n",
              "      <td>0.0</td>\n",
              "    </tr>\n",
              "    <tr>\n",
              "      <th>1023</th>\n",
              "      <td>1</td>\n",
              "      <td>0</td>\n",
              "      <td>0</td>\n",
              "      <td>0.0</td>\n",
              "      <td>0.0</td>\n",
              "    </tr>\n",
              "    <tr>\n",
              "      <th>1024</th>\n",
              "      <td>2</td>\n",
              "      <td>2</td>\n",
              "      <td>0</td>\n",
              "      <td>5.0</td>\n",
              "      <td>0.0</td>\n",
              "    </tr>\n",
              "    <tr>\n",
              "      <th>1025</th>\n",
              "      <td>2</td>\n",
              "      <td>3</td>\n",
              "      <td>0</td>\n",
              "      <td>10.0</td>\n",
              "      <td>0.0</td>\n",
              "    </tr>\n",
              "    <tr>\n",
              "      <th>1039</th>\n",
              "      <td>1</td>\n",
              "      <td>0</td>\n",
              "      <td>0</td>\n",
              "      <td>0.0</td>\n",
              "      <td>0.0</td>\n",
              "    </tr>\n",
              "  </tbody>\n",
              "</table>\n",
              "<p>460 rows × 5 columns</p>\n",
              "</div>"
            ],
            "text/plain": [
              "      pathologic_stage  pathology_N_stage  ...  number_of_lymph_nodes  status\n",
              "3                    1                  0  ...                    0.0     1.0\n",
              "5                    0                  0  ...                    0.0     0.0\n",
              "6                    2                  1  ...                    2.0     0.0\n",
              "8                    0                  0  ...                    0.0     0.0\n",
              "11                   0                  0  ...                    0.0     0.0\n",
              "...                ...                ...  ...                    ...     ...\n",
              "1022                 2                  1  ...                    3.0     0.0\n",
              "1023                 1                  0  ...                    0.0     0.0\n",
              "1024                 2                  2  ...                    5.0     0.0\n",
              "1025                 2                  3  ...                   10.0     0.0\n",
              "1039                 1                  0  ...                    0.0     0.0\n",
              "\n",
              "[460 rows x 5 columns]"
            ]
          },
          "metadata": {
            "tags": []
          },
          "execution_count": 33
        }
      ]
    },
    {
      "cell_type": "code",
      "metadata": {
        "id": "Anq4jXSNks92"
      },
      "source": [
        "#Split the data into independent 'X' and dependent 'Y' variables\n",
        "X = correlated_data.iloc[:, 0:4].values #Notice I started from index 1 to 16, essentially removing the id column & diagnosis\n",
        "Y = correlated_data.iloc[:,4].values #Get the target variable 'diagnosis' located at index=1"
      ],
      "execution_count": null,
      "outputs": []
    },
    {
      "cell_type": "code",
      "metadata": {
        "id": "qMOlAEedmHwh",
        "colab": {
          "base_uri": "https://localhost:8080/",
          "height": 34
        },
        "outputId": "71f8db20-ec0f-4f31-d939-b07acadf0a9e"
      },
      "source": [
        "X.shape"
      ],
      "execution_count": null,
      "outputs": [
        {
          "output_type": "execute_result",
          "data": {
            "text/plain": [
              "(460, 4)"
            ]
          },
          "metadata": {
            "tags": []
          },
          "execution_count": 44
        }
      ]
    },
    {
      "cell_type": "code",
      "metadata": {
        "id": "akcTqrp-mH-0"
      },
      "source": [
        "# Split the dataset into 75% Training set and 25% Testing set\n",
        "\n",
        "from sklearn.model_selection import train_test_split\n",
        "X_train, X_test, Y_train, Y_test = train_test_split(X, Y, test_size = 0.25, random_state = 0)\n"
      ],
      "execution_count": null,
      "outputs": []
    },
    {
      "cell_type": "code",
      "metadata": {
        "id": "CQtBkiPXmIEC"
      },
      "source": [
        "from sklearn.preprocessing import StandardScaler\n",
        "sc = StandardScaler()\n",
        "X_train = sc.fit_transform(X_train)\n",
        "X_test = sc.transform(X_test)\n"
      ],
      "execution_count": null,
      "outputs": []
    },
    {
      "cell_type": "code",
      "metadata": {
        "id": "xhz0gCZxmH7-"
      },
      "source": [
        "#Create a function within many Machine Learning Models\n",
        "def models(X_train,Y_train):\n",
        "  #Using Logistic Regression Algorithm to the Training Set\n",
        "  from sklearn.linear_model import LogisticRegression\n",
        "  log = LogisticRegression(random_state = 0)\n",
        "  log.fit(X_train, Y_train)\n",
        "  #Using KNeighborsClassifier Method of neighbors class to use Nearest Neighbor algorithm\n",
        "  from sklearn.neighbors import KNeighborsClassifier\n",
        "  knn = KNeighborsClassifier(n_neighbors = 5, metric = 'minkowski', p = 2)\n",
        "  knn.fit(X_train, Y_train)\n",
        "  #Using SVC method of svm class to use Support Vector Machine Algorithm\n",
        "  from sklearn.svm import SVC\n",
        "  svc_lin = SVC(kernel = 'linear', random_state = 0)\n",
        "  svc_lin.fit(X_train, Y_train)\n",
        "  #Using SVC method of svm class to use Kernel SVM Algorithm\n",
        "  from sklearn.svm import SVC\n",
        "  svc_rbf = SVC(kernel = 'rbf', random_state = 0)\n",
        "  svc_rbf.fit(X_train, Y_train)\n",
        "  #Using GaussianNB method of naïve_bayes class to use Naïve Bayes Algorithm\n",
        "  from sklearn.naive_bayes import GaussianNB\n",
        "  gauss = GaussianNB()\n",
        "  gauss.fit(X_train, Y_train)\n",
        "  #Using DecisionTreeClassifier of tree class to use Decision Tree Algorithm\n",
        "  from sklearn.tree import DecisionTreeClassifier\n",
        "  tree = DecisionTreeClassifier(criterion = 'entropy', random_state = 0)\n",
        "  tree.fit(X_train, Y_train)\n",
        "  #Using RandomForestClassifier method of ensemble class to use Random Forest Classification algorithm\n",
        "  from sklearn.ensemble import RandomForestClassifier\n",
        "  forest = RandomForestClassifier(n_estimators = 10, criterion = 'entropy', random_state = 0)\n",
        "  forest.fit(X_train, Y_train)\n",
        "  #print model accuracy on the training data.\n",
        "  print('[0]Logistic Regression Training Accuracy:', log.score(X_train, Y_train))\n",
        "  print('[1]K Nearest Neighbor Training Accuracy:', knn.score(X_train, Y_train))\n",
        "  print('[2]Support Vector Machine (Linear Classifier) Training Accuracy:', svc_lin.score(X_train, Y_train))\n",
        "  print('[3]Support Vector Machine (RBF Classifier) Training Accuracy:', svc_rbf.score(X_train, Y_train))\n",
        "  print('[4]Gaussian Naive Bayes Training Accuracy:', gauss.score(X_train, Y_train))\n",
        "  print('[5]Decision Tree Classifier Training Accuracy:', tree.score(X_train, Y_train))\n",
        "  print('[6]Random Forest Classifier Training Accuracy:', forest.score(X_train, Y_train))\n",
        "  return log, knn, svc_lin, svc_rbf, gauss, tree, forest\n"
      ],
      "execution_count": null,
      "outputs": []
    },
    {
      "cell_type": "code",
      "metadata": {
        "id": "rwUteq2omH4_",
        "colab": {
          "base_uri": "https://localhost:8080/",
          "height": 136
        },
        "outputId": "a5aa0176-9bcb-4d04-d8e2-8824ac216e25"
      },
      "source": [
        " #gating all the models.\t\n",
        "                             model = models(X_train,Y_train)"
      ],
      "execution_count": null,
      "outputs": [
        {
          "output_type": "stream",
          "text": [
            "[0]Logistic Regression Training Accuracy: 0.8579710144927536\n",
            "[1]K Nearest Neighbor Training Accuracy: 0.8608695652173913\n",
            "[2]Support Vector Machine (Linear Classifier) Training Accuracy: 0.8579710144927536\n",
            "[3]Support Vector Machine (RBF Classifier) Training Accuracy: 0.8579710144927536\n",
            "[4]Gaussian Naive Bayes Training Accuracy: 0.8434782608695652\n",
            "[5]Decision Tree Classifier Training Accuracy: 0.8782608695652174\n",
            "[6]Random Forest Classifier Training Accuracy: 0.8724637681159421\n"
          ],
          "name": "stdout"
        }
      ]
    },
    {
      "cell_type": "code",
      "metadata": {
        "id": "aybtnBJUqMp1",
        "colab": {
          "base_uri": "https://localhost:8080/",
          "height": 493
        },
        "outputId": "22b27cea-f6a0-4e76-ef91-3c7829afb1b1"
      },
      "source": [
        "#Show the confusion matrix and accuracy for all of the models on the test data\n",
        "#Classification accuracy is the ratio of correct predictions to total predictions made.\n",
        "from sklearn.metrics import confusion_matrix\n",
        "for i in range(len(model)):\n",
        "  cm = confusion_matrix(Y_test, model[i].predict(X_test))\n",
        "  TN = cm[0][0]\n",
        "  TP = cm[1][1]\n",
        "  FN = cm[1][0]\n",
        "  FP = cm[0][1]\n",
        "  print(cm)\n",
        "\n",
        "  print('Model[{}] Testing Accuracy = \"{}!\"'.format(i, (TP + TN) / (TP + TN + FN + FP)))\n",
        "  print()# Print a new line"
      ],
      "execution_count": null,
      "outputs": [
        {
          "output_type": "stream",
          "text": [
            "[[103   0]\n",
            " [  9   3]]\n",
            "Model[0] Testing Accuracy = \"0.9217391304347826!\"\n",
            "\n",
            "[[103   0]\n",
            " [  9   3]]\n",
            "Model[1] Testing Accuracy = \"0.9217391304347826!\"\n",
            "\n",
            "[[103   0]\n",
            " [  9   3]]\n",
            "Model[2] Testing Accuracy = \"0.9217391304347826!\"\n",
            "\n",
            "[[103   0]\n",
            " [ 10   2]]\n",
            "Model[3] Testing Accuracy = \"0.9130434782608695!\"\n",
            "\n",
            "[[100   3]\n",
            " [  9   3]]\n",
            "Model[4] Testing Accuracy = \"0.8956521739130435!\"\n",
            "\n",
            "[[100   3]\n",
            " [ 10   2]]\n",
            "Model[5] Testing Accuracy = \"0.8869565217391304!\"\n",
            "\n",
            "[[99  4]\n",
            " [ 9  3]]\n",
            "Model[6] Testing Accuracy = \"0.8869565217391304!\"\n",
            "\n"
          ],
          "name": "stdout"
        }
      ]
    },
    {
      "cell_type": "code",
      "metadata": {
        "id": "BXM5ewYDmH2M",
        "colab": {
          "base_uri": "https://localhost:8080/",
          "height": 493
        },
        "outputId": "b3176afd-ea38-48f9-d6be-0ee9549215f8"
      },
      "source": [
        "#Show the confusion matrix and accuracy for all of the models on the test data\n",
        "#Classification accuracy is the ratio of correct predictions to total predictions made.\n",
        "from sklearn.metrics import confusion_matrix\n",
        "for i in range(len(model)):\n",
        "  cm = confusion_matrix(Y_test, model[i].predict(X_test))\n",
        "  TN = cm[0][0]\n",
        "  TP = cm[1][1]\n",
        "  FN = cm[1][0]\n",
        "  FP = cm[0][1]\n",
        "  print(cm)\n",
        "\n",
        "  print('Model[{}] Testing Accuracy = \"{}!\"'.format(i, (TP + TN) / (TP + TN + FN + FP)))\n",
        "  print()# Print a new line\n"
      ],
      "execution_count": null,
      "outputs": [
        {
          "output_type": "stream",
          "text": [
            "[[103   0]\n",
            " [  9   3]]\n",
            "Model[0] Testing Accuracy = \"0.9217391304347826!\"\n",
            "\n",
            "[[103   0]\n",
            " [  9   3]]\n",
            "Model[1] Testing Accuracy = \"0.9217391304347826!\"\n",
            "\n",
            "[[103   0]\n",
            " [  9   3]]\n",
            "Model[2] Testing Accuracy = \"0.9217391304347826!\"\n",
            "\n",
            "[[103   0]\n",
            " [ 10   2]]\n",
            "Model[3] Testing Accuracy = \"0.9130434782608695!\"\n",
            "\n",
            "[[100   3]\n",
            " [  9   3]]\n",
            "Model[4] Testing Accuracy = \"0.8956521739130435!\"\n",
            "\n",
            "[[100   3]\n",
            " [ 10   2]]\n",
            "Model[5] Testing Accuracy = \"0.8869565217391304!\"\n",
            "\n",
            "[[99  4]\n",
            " [ 9  3]]\n",
            "Model[6] Testing Accuracy = \"0.8869565217391304!\"\n",
            "\n"
          ],
          "name": "stdout"
        }
      ]
    },
    {
      "cell_type": "code",
      "metadata": {
        "id": "g3H3xw9UmHuK",
        "colab": {
          "base_uri": "https://localhost:8080/",
          "height": 1000
        },
        "outputId": "ed4f09b9-13ed-41b9-d039-95d77930f0b1"
      },
      "source": [
        "#sification accuracy & other metShow other ways to get the clasrics\n",
        "from sklearn.metrics import classification_report\n",
        "from sklearn.metrics import accuracy_score\n",
        "for i in range(len(model)):\n",
        "  print('Model ',i)\n",
        "  #Check precision, recall, f1-score\n",
        "  print( classification_report(Y_test, model[i].predict(X_test)) )\n",
        "  #Another way to get the models accuracy on the test data\n",
        "  print( accuracy_score(Y_test, model[i].predict(X_test)))\n",
        "  print()#Print a new line"
      ],
      "execution_count": null,
      "outputs": [
        {
          "output_type": "stream",
          "text": [
            "Model  0\n",
            "              precision    recall  f1-score   support\n",
            "\n",
            "         0.0       0.92      1.00      0.96       103\n",
            "         1.0       1.00      0.25      0.40        12\n",
            "\n",
            "    accuracy                           0.92       115\n",
            "   macro avg       0.96      0.62      0.68       115\n",
            "weighted avg       0.93      0.92      0.90       115\n",
            "\n",
            "0.9217391304347826\n",
            "\n",
            "Model  1\n",
            "              precision    recall  f1-score   support\n",
            "\n",
            "         0.0       0.92      1.00      0.96       103\n",
            "         1.0       1.00      0.25      0.40        12\n",
            "\n",
            "    accuracy                           0.92       115\n",
            "   macro avg       0.96      0.62      0.68       115\n",
            "weighted avg       0.93      0.92      0.90       115\n",
            "\n",
            "0.9217391304347826\n",
            "\n",
            "Model  2\n",
            "              precision    recall  f1-score   support\n",
            "\n",
            "         0.0       0.92      1.00      0.96       103\n",
            "         1.0       1.00      0.25      0.40        12\n",
            "\n",
            "    accuracy                           0.92       115\n",
            "   macro avg       0.96      0.62      0.68       115\n",
            "weighted avg       0.93      0.92      0.90       115\n",
            "\n",
            "0.9217391304347826\n",
            "\n",
            "Model  3\n",
            "              precision    recall  f1-score   support\n",
            "\n",
            "         0.0       0.91      1.00      0.95       103\n",
            "         1.0       1.00      0.17      0.29        12\n",
            "\n",
            "    accuracy                           0.91       115\n",
            "   macro avg       0.96      0.58      0.62       115\n",
            "weighted avg       0.92      0.91      0.88       115\n",
            "\n",
            "0.9130434782608695\n",
            "\n",
            "Model  4\n",
            "              precision    recall  f1-score   support\n",
            "\n",
            "         0.0       0.92      0.97      0.94       103\n",
            "         1.0       0.50      0.25      0.33        12\n",
            "\n",
            "    accuracy                           0.90       115\n",
            "   macro avg       0.71      0.61      0.64       115\n",
            "weighted avg       0.87      0.90      0.88       115\n",
            "\n",
            "0.8956521739130435\n",
            "\n",
            "Model  5\n",
            "              precision    recall  f1-score   support\n",
            "\n",
            "         0.0       0.91      0.97      0.94       103\n",
            "         1.0       0.40      0.17      0.24        12\n",
            "\n",
            "    accuracy                           0.89       115\n",
            "   macro avg       0.65      0.57      0.59       115\n",
            "weighted avg       0.86      0.89      0.87       115\n",
            "\n",
            "0.8869565217391304\n",
            "\n",
            "Model  6\n",
            "              precision    recall  f1-score   support\n",
            "\n",
            "         0.0       0.92      0.96      0.94       103\n",
            "         1.0       0.43      0.25      0.32        12\n",
            "\n",
            "    accuracy                           0.89       115\n",
            "   macro avg       0.67      0.61      0.63       115\n",
            "weighted avg       0.87      0.89      0.87       115\n",
            "\n",
            "0.8869565217391304\n",
            "\n"
          ],
          "name": "stdout"
        }
      ]
    },
    {
      "cell_type": "code",
      "metadata": {
        "id": "GGEfo_CNmHqm"
      },
      "source": [
        ""
      ],
      "execution_count": null,
      "outputs": []
    },
    {
      "cell_type": "code",
      "metadata": {
        "id": "iE2kAVOFktEt"
      },
      "source": [
        ""
      ],
      "execution_count": null,
      "outputs": []
    },
    {
      "cell_type": "code",
      "metadata": {
        "id": "lcMZprdpktTI"
      },
      "source": [
        ""
      ],
      "execution_count": null,
      "outputs": []
    },
    {
      "cell_type": "code",
      "metadata": {
        "id": "nPlP9PeyktXb"
      },
      "source": [
        ""
      ],
      "execution_count": null,
      "outputs": []
    },
    {
      "cell_type": "code",
      "metadata": {
        "id": "hsoULsolktCG"
      },
      "source": [
        ""
      ],
      "execution_count": null,
      "outputs": []
    },
    {
      "cell_type": "code",
      "metadata": {
        "id": "Sx3HYrzTks7j"
      },
      "source": [
        ""
      ],
      "execution_count": null,
      "outputs": []
    },
    {
      "cell_type": "code",
      "metadata": {
        "id": "HsjGAzDWhxwx"
      },
      "source": [
        "X_train, X_test, y_train, y_test = train_test_split(X, y, test_size = 0.25, random_state = 0)"
      ],
      "execution_count": null,
      "outputs": []
    },
    {
      "cell_type": "code",
      "metadata": {
        "id": "adB8BTSChx-d",
        "colab": {
          "base_uri": "https://localhost:8080/",
          "height": 153
        },
        "outputId": "a9a47ff6-5e5f-4dab-cd10-47f3df6219e1"
      },
      "source": [
        "\n",
        "model = RandomForestClassifier(n_estimators = 10, criterion = 'entropy', random_state = 0)\n",
        "model.fit(X_train, y_train)"
      ],
      "execution_count": null,
      "outputs": [
        {
          "output_type": "execute_result",
          "data": {
            "text/plain": [
              "RandomForestClassifier(bootstrap=True, ccp_alpha=0.0, class_weight=None,\n",
              "                       criterion='entropy', max_depth=None, max_features='auto',\n",
              "                       max_leaf_nodes=None, max_samples=None,\n",
              "                       min_impurity_decrease=0.0, min_impurity_split=None,\n",
              "                       min_samples_leaf=1, min_samples_split=2,\n",
              "                       min_weight_fraction_leaf=0.0, n_estimators=10,\n",
              "                       n_jobs=None, oob_score=False, random_state=0, verbose=0,\n",
              "                       warm_start=False)"
            ]
          },
          "metadata": {
            "tags": []
          },
          "execution_count": 271
        }
      ]
    },
    {
      "cell_type": "code",
      "metadata": {
        "id": "qARxHlHghyFF"
      },
      "source": [
        "y_predict = model.predict(X_test)"
      ],
      "execution_count": null,
      "outputs": []
    },
    {
      "cell_type": "code",
      "metadata": {
        "id": "27Sge8RrhyJZ",
        "colab": {
          "base_uri": "https://localhost:8080/",
          "height": 419
        },
        "outputId": "decfb89c-e2dc-45b1-e1af-a4d4e45e4c37"
      },
      "source": [
        "df = pd.DataFrame(data = [y_predict, y_test])\n",
        "df.T"
      ],
      "execution_count": null,
      "outputs": [
        {
          "output_type": "execute_result",
          "data": {
            "text/html": [
              "<div>\n",
              "<style scoped>\n",
              "    .dataframe tbody tr th:only-of-type {\n",
              "        vertical-align: middle;\n",
              "    }\n",
              "\n",
              "    .dataframe tbody tr th {\n",
              "        vertical-align: top;\n",
              "    }\n",
              "\n",
              "    .dataframe thead th {\n",
              "        text-align: right;\n",
              "    }\n",
              "</style>\n",
              "<table border=\"1\" class=\"dataframe\">\n",
              "  <thead>\n",
              "    <tr style=\"text-align: right;\">\n",
              "      <th></th>\n",
              "      <th>0</th>\n",
              "      <th>1</th>\n",
              "    </tr>\n",
              "  </thead>\n",
              "  <tbody>\n",
              "    <tr>\n",
              "      <th>0</th>\n",
              "      <td>0.0</td>\n",
              "      <td>0.0</td>\n",
              "    </tr>\n",
              "    <tr>\n",
              "      <th>1</th>\n",
              "      <td>0.0</td>\n",
              "      <td>0.0</td>\n",
              "    </tr>\n",
              "    <tr>\n",
              "      <th>2</th>\n",
              "      <td>0.0</td>\n",
              "      <td>0.0</td>\n",
              "    </tr>\n",
              "    <tr>\n",
              "      <th>3</th>\n",
              "      <td>0.0</td>\n",
              "      <td>0.0</td>\n",
              "    </tr>\n",
              "    <tr>\n",
              "      <th>4</th>\n",
              "      <td>0.0</td>\n",
              "      <td>0.0</td>\n",
              "    </tr>\n",
              "    <tr>\n",
              "      <th>...</th>\n",
              "      <td>...</td>\n",
              "      <td>...</td>\n",
              "    </tr>\n",
              "    <tr>\n",
              "      <th>110</th>\n",
              "      <td>0.0</td>\n",
              "      <td>0.0</td>\n",
              "    </tr>\n",
              "    <tr>\n",
              "      <th>111</th>\n",
              "      <td>1.0</td>\n",
              "      <td>0.0</td>\n",
              "    </tr>\n",
              "    <tr>\n",
              "      <th>112</th>\n",
              "      <td>0.0</td>\n",
              "      <td>0.0</td>\n",
              "    </tr>\n",
              "    <tr>\n",
              "      <th>113</th>\n",
              "      <td>1.0</td>\n",
              "      <td>0.0</td>\n",
              "    </tr>\n",
              "    <tr>\n",
              "      <th>114</th>\n",
              "      <td>0.0</td>\n",
              "      <td>0.0</td>\n",
              "    </tr>\n",
              "  </tbody>\n",
              "</table>\n",
              "<p>115 rows × 2 columns</p>\n",
              "</div>"
            ],
            "text/plain": [
              "       0    1\n",
              "0    0.0  0.0\n",
              "1    0.0  0.0\n",
              "2    0.0  0.0\n",
              "3    0.0  0.0\n",
              "4    0.0  0.0\n",
              "..   ...  ...\n",
              "110  0.0  0.0\n",
              "111  1.0  0.0\n",
              "112  0.0  0.0\n",
              "113  1.0  0.0\n",
              "114  0.0  0.0\n",
              "\n",
              "[115 rows x 2 columns]"
            ]
          },
          "metadata": {
            "tags": []
          },
          "execution_count": 273
        }
      ]
    },
    {
      "cell_type": "code",
      "metadata": {
        "id": "NHc-hILMhyND"
      },
      "source": [
        "from sklearn.metrics import r2_score"
      ],
      "execution_count": null,
      "outputs": []
    },
    {
      "cell_type": "code",
      "metadata": {
        "id": "-YXPMtcPhx8j",
        "colab": {
          "base_uri": "https://localhost:8080/",
          "height": 68
        },
        "outputId": "cc36ba37-9965-48bc-ae1f-6004f4f990c5"
      },
      "source": [
        "correlated_data.columns"
      ],
      "execution_count": null,
      "outputs": [
        {
          "output_type": "execute_result",
          "data": {
            "text/plain": [
              "Index(['pathologic_stage', 'pathology_T_stage', 'pathology_N_stage',\n",
              "       'pathology_M_stage', 'number_of_lymph_nodes', 'status'],\n",
              "      dtype='object')"
            ]
          },
          "metadata": {
            "tags": []
          },
          "execution_count": 275
        }
      ]
    },
    {
      "cell_type": "code",
      "metadata": {
        "id": "BHsGw7cwhx5F",
        "colab": {
          "base_uri": "https://localhost:8080/",
          "height": 68
        },
        "outputId": "b768f64c-653a-4a01-eb56-262cd4de5830"
      },
      "source": [
        "score = r2_score(y_test, y_predict)\n",
        "mae = mean_absolute_error(y_test, y_predict)\n",
        "mse = mean_squared_error(y_test, y_predict)\n",
        "\n",
        "print('r2_score: ', score)\n",
        "print('mae: ', mae)\n",
        "print('mse: ', mse)"
      ],
      "execution_count": null,
      "outputs": [
        {
          "output_type": "stream",
          "text": [
            "r2_score:  -0.674757281553398\n",
            "mae:  0.1565217391304348\n",
            "mse:  0.1565217391304348\n"
          ],
          "name": "stdout"
        }
      ]
    },
    {
      "cell_type": "code",
      "metadata": {
        "id": "w_l1Tu73hx2e"
      },
      "source": [
        ""
      ],
      "execution_count": null,
      "outputs": []
    },
    {
      "cell_type": "code",
      "metadata": {
        "id": "Dx_VttZbjnWo"
      },
      "source": [
        ""
      ],
      "execution_count": null,
      "outputs": []
    },
    {
      "cell_type": "code",
      "metadata": {
        "id": "klOG8uagjncl"
      },
      "source": [
        ""
      ],
      "execution_count": null,
      "outputs": []
    },
    {
      "cell_type": "code",
      "metadata": {
        "id": "KhHYhAWEjnhK"
      },
      "source": [
        ""
      ],
      "execution_count": null,
      "outputs": []
    },
    {
      "cell_type": "code",
      "metadata": {
        "id": "oIoIYHDUjnuX"
      },
      "source": [
        ""
      ],
      "execution_count": null,
      "outputs": []
    },
    {
      "cell_type": "code",
      "metadata": {
        "id": "-8ri40z3jnzY"
      },
      "source": [
        ""
      ],
      "execution_count": null,
      "outputs": []
    },
    {
      "cell_type": "code",
      "metadata": {
        "id": "lgweEdBnjnsz"
      },
      "source": [
        ""
      ],
      "execution_count": null,
      "outputs": []
    },
    {
      "cell_type": "code",
      "metadata": {
        "id": "Cr1eutLGjnpn"
      },
      "source": [
        ""
      ],
      "execution_count": null,
      "outputs": []
    },
    {
      "cell_type": "code",
      "metadata": {
        "id": "aonRNL0ujnm9"
      },
      "source": [
        ""
      ],
      "execution_count": null,
      "outputs": []
    },
    {
      "cell_type": "code",
      "metadata": {
        "id": "6xmj0vq6jnlB"
      },
      "source": [
        ""
      ],
      "execution_count": null,
      "outputs": []
    },
    {
      "cell_type": "code",
      "metadata": {
        "id": "yPb3wxT3jna-"
      },
      "source": [
        ""
      ],
      "execution_count": null,
      "outputs": []
    },
    {
      "cell_type": "code",
      "metadata": {
        "id": "LM-k2lCXjnUH"
      },
      "source": [
        ""
      ],
      "execution_count": null,
      "outputs": []
    },
    {
      "cell_type": "code",
      "metadata": {
        "id": "OOb-9IWojnRb"
      },
      "source": [
        ""
      ],
      "execution_count": null,
      "outputs": []
    },
    {
      "cell_type": "code",
      "metadata": {
        "id": "Fowx_hT-jnOs"
      },
      "source": [
        ""
      ],
      "execution_count": null,
      "outputs": []
    },
    {
      "cell_type": "code",
      "metadata": {
        "id": "CeiWbMqrhx01"
      },
      "source": [
        ""
      ],
      "execution_count": null,
      "outputs": []
    },
    {
      "cell_type": "code",
      "metadata": {
        "id": "gSyjHfybhxuU"
      },
      "source": [
        ""
      ],
      "execution_count": null,
      "outputs": []
    },
    {
      "cell_type": "code",
      "metadata": {
        "id": "nycZQyO8hxrK"
      },
      "source": [
        ""
      ],
      "execution_count": null,
      "outputs": []
    },
    {
      "cell_type": "code",
      "metadata": {
        "id": "pfxCmvePXnwm",
        "colab": {
          "base_uri": "https://localhost:8080/",
          "height": 204
        },
        "outputId": "b74b359e-002e-434b-8d50-6bc54ea6d0a4"
      },
      "source": [
        "X = correlated_data.drop(labels=['status'], axis = 1)\n",
        "Y = correlated_data['status']\n",
        "X.head()"
      ],
      "execution_count": null,
      "outputs": [
        {
          "output_type": "execute_result",
          "data": {
            "text/html": [
              "<div>\n",
              "<style scoped>\n",
              "    .dataframe tbody tr th:only-of-type {\n",
              "        vertical-align: middle;\n",
              "    }\n",
              "\n",
              "    .dataframe tbody tr th {\n",
              "        vertical-align: top;\n",
              "    }\n",
              "\n",
              "    .dataframe thead th {\n",
              "        text-align: right;\n",
              "    }\n",
              "</style>\n",
              "<table border=\"1\" class=\"dataframe\">\n",
              "  <thead>\n",
              "    <tr style=\"text-align: right;\">\n",
              "      <th></th>\n",
              "      <th>pathologic_stage</th>\n",
              "      <th>pathology_T_stage</th>\n",
              "      <th>pathology_N_stage</th>\n",
              "      <th>pathology_M_stage</th>\n",
              "      <th>number_of_lymph_nodes</th>\n",
              "    </tr>\n",
              "  </thead>\n",
              "  <tbody>\n",
              "    <tr>\n",
              "      <th>3</th>\n",
              "      <td>1</td>\n",
              "      <td>1</td>\n",
              "      <td>0</td>\n",
              "      <td>0</td>\n",
              "      <td>0.0</td>\n",
              "    </tr>\n",
              "    <tr>\n",
              "      <th>5</th>\n",
              "      <td>0</td>\n",
              "      <td>0</td>\n",
              "      <td>0</td>\n",
              "      <td>0</td>\n",
              "      <td>0.0</td>\n",
              "    </tr>\n",
              "    <tr>\n",
              "      <th>6</th>\n",
              "      <td>2</td>\n",
              "      <td>2</td>\n",
              "      <td>1</td>\n",
              "      <td>0</td>\n",
              "      <td>2.0</td>\n",
              "    </tr>\n",
              "    <tr>\n",
              "      <th>8</th>\n",
              "      <td>0</td>\n",
              "      <td>0</td>\n",
              "      <td>0</td>\n",
              "      <td>0</td>\n",
              "      <td>0.0</td>\n",
              "    </tr>\n",
              "    <tr>\n",
              "      <th>11</th>\n",
              "      <td>0</td>\n",
              "      <td>0</td>\n",
              "      <td>0</td>\n",
              "      <td>0</td>\n",
              "      <td>0.0</td>\n",
              "    </tr>\n",
              "  </tbody>\n",
              "</table>\n",
              "</div>"
            ],
            "text/plain": [
              "    pathologic_stage  ...  number_of_lymph_nodes\n",
              "3                  1  ...                    0.0\n",
              "5                  0  ...                    0.0\n",
              "6                  2  ...                    2.0\n",
              "8                  0  ...                    0.0\n",
              "11                 0  ...                    0.0\n",
              "\n",
              "[5 rows x 5 columns]"
            ]
          },
          "metadata": {
            "tags": []
          },
          "execution_count": 249
        }
      ]
    },
    {
      "cell_type": "code",
      "metadata": {
        "id": "IBOCxwEuXn3_"
      },
      "source": [
        "X_train, X_test, Y_train, Y_test = train_test_split(X, Y, test_size = 0.25, random_state = 0)"
      ],
      "execution_count": null,
      "outputs": []
    },
    {
      "cell_type": "code",
      "metadata": {
        "id": "smturHfTXn_I",
        "colab": {
          "base_uri": "https://localhost:8080/",
          "height": 34
        },
        "outputId": "ef3dbf52-7f96-4265-c7fa-6e4af1588021"
      },
      "source": [
        "\n",
        "X_train.shape, X_test.shape"
      ],
      "execution_count": null,
      "outputs": [
        {
          "output_type": "execute_result",
          "data": {
            "text/plain": [
              "((345, 5), (115, 5))"
            ]
          },
          "metadata": {
            "tags": []
          },
          "execution_count": 267
        }
      ]
    },
    {
      "cell_type": "code",
      "metadata": {
        "id": "B9_2BSjpXoDM",
        "colab": {
          "base_uri": "https://localhost:8080/",
          "height": 153
        },
        "outputId": "60500e89-09fe-4323-bd7c-0eaaed0d6c39"
      },
      "source": [
        "model = RandomForestClassifier(n_estimators = 10, criterion = 'entropy', random_state = 0)\n",
        "model.fit(X_train, Y_train)"
      ],
      "execution_count": null,
      "outputs": [
        {
          "output_type": "execute_result",
          "data": {
            "text/plain": [
              "RandomForestClassifier(bootstrap=True, ccp_alpha=0.0, class_weight=None,\n",
              "                       criterion='entropy', max_depth=None, max_features='auto',\n",
              "                       max_leaf_nodes=None, max_samples=None,\n",
              "                       min_impurity_decrease=0.0, min_impurity_split=None,\n",
              "                       min_samples_leaf=1, min_samples_split=2,\n",
              "                       min_weight_fraction_leaf=0.0, n_estimators=10,\n",
              "                       n_jobs=None, oob_score=False, random_state=0, verbose=0,\n",
              "                       warm_start=False)"
            ]
          },
          "metadata": {
            "tags": []
          },
          "execution_count": 268
        }
      ]
    },
    {
      "cell_type": "code",
      "metadata": {
        "id": "-p9aAEe0Xn9f"
      },
      "source": [
        "y_predict = model.predict(X_test)"
      ],
      "execution_count": null,
      "outputs": []
    },
    {
      "cell_type": "code",
      "metadata": {
        "id": "vq6UU-y-Xn8D"
      },
      "source": [
        ""
      ],
      "execution_count": null,
      "outputs": []
    },
    {
      "cell_type": "code",
      "metadata": {
        "id": "3fim6n09Xn16"
      },
      "source": [
        ""
      ],
      "execution_count": null,
      "outputs": []
    },
    {
      "cell_type": "code",
      "metadata": {
        "id": "kARfrfe3Xnzc"
      },
      "source": [
        ""
      ],
      "execution_count": null,
      "outputs": []
    },
    {
      "cell_type": "code",
      "metadata": {
        "id": "SDr_cY9PXnup"
      },
      "source": [
        ""
      ],
      "execution_count": null,
      "outputs": []
    },
    {
      "cell_type": "code",
      "metadata": {
        "id": "ywVGdpCXXnr6"
      },
      "source": [
        ""
      ],
      "execution_count": null,
      "outputs": []
    },
    {
      "cell_type": "code",
      "metadata": {
        "id": "tzv3pJ3_Xnov"
      },
      "source": [
        ""
      ],
      "execution_count": null,
      "outputs": []
    },
    {
      "cell_type": "code",
      "metadata": {
        "id": "eYD1JhG3XnnB"
      },
      "source": [
        ""
      ],
      "execution_count": null,
      "outputs": []
    },
    {
      "cell_type": "code",
      "metadata": {
        "id": "8KE0p1r5Xnk0"
      },
      "source": [
        ""
      ],
      "execution_count": null,
      "outputs": []
    },
    {
      "cell_type": "code",
      "metadata": {
        "id": "5YO7eZDBXneb"
      },
      "source": [
        ""
      ],
      "execution_count": null,
      "outputs": []
    },
    {
      "cell_type": "code",
      "metadata": {
        "id": "Kc6rtpt9TPL0"
      },
      "source": [
        ""
      ],
      "execution_count": null,
      "outputs": []
    },
    {
      "cell_type": "code",
      "metadata": {
        "id": "AleiF8BeEITh"
      },
      "source": [
        ""
      ],
      "execution_count": null,
      "outputs": []
    },
    {
      "cell_type": "code",
      "metadata": {
        "id": "PI-M9yQEit_S"
      },
      "source": [
        ""
      ],
      "execution_count": null,
      "outputs": []
    },
    {
      "cell_type": "code",
      "metadata": {
        "id": "9Oqq-mk5it33"
      },
      "source": [
        ""
      ],
      "execution_count": null,
      "outputs": []
    },
    {
      "cell_type": "code",
      "metadata": {
        "id": "b_McPUZcgQuH"
      },
      "source": [
        ""
      ],
      "execution_count": null,
      "outputs": []
    },
    {
      "cell_type": "code",
      "metadata": {
        "id": "TEwOP6mtfY_F"
      },
      "source": [
        ""
      ],
      "execution_count": null,
      "outputs": []
    },
    {
      "cell_type": "code",
      "metadata": {
        "id": "Vjs8EAYZUnLq"
      },
      "source": [
        "#Create a function within many Machine Learning Models\n",
        "def models(X_train,Y_train):\n",
        "  #Using Logistic Regression Algorithm to the Training Set\n",
        "  from sklearn.linear_model import LogisticRegression\n",
        "  log = LogisticRegression(random_state = 0)\n",
        "  log.fit(X_train, Y_train)\n",
        "  #Using KNeighborsClassifier Method of neighbors class to use Nearest Neighbor algorithm\n",
        "  from sklearn.neighbors import KNeighborsClassifier\n",
        "  knn = KNeighborsClassifier(n_neighbors = 5, metric = 'minkowski', p = 2)\n",
        "  knn.fit(X_train, Y_train)\n",
        "  #Using SVC method of svm class to use Support Vector Machine Algorithm\n",
        "  from sklearn.svm import SVC\n",
        "  svc_lin = SVC(kernel = 'linear', random_state = 0)\n",
        "  svc_lin.fit(X_train, Y_train)\n",
        "  #Using SVC method of svm class to use Kernel SVM Algorithm\n",
        "  from sklearn.svm import SVC\n",
        "  svc_rbf = SVC(kernel = 'rbf', random_state = 0)\n",
        "  svc_rbf.fit(X_train, Y_train)\n",
        "  #Using GaussianNB method of naïve_bayes class to use Naïve Bayes Algorithm\n",
        "  from sklearn.naive_bayes import GaussianNB\n",
        "  gauss = GaussianNB()\n",
        "  gauss.fit(X_train, Y_train)\n",
        "  #Using DecisionTreeClassifier of tree class to use Decision Tree Algorithm\n",
        "  from sklearn.tree import DecisionTreeClassifier\n",
        "  tree = DecisionTreeClassifier(criterion = 'entropy', random_state = 0)\n",
        "  tree.fit(X_train, Y_train)\n",
        "  #Using RandomForestClassifier method of ensemble class to use Random Forest Classification algorithm\n",
        "  from sklearn.ensemble import RandomForestClassifier\n",
        "  forest = RandomForestClassifier(n_estimators = 10, criterion = 'entropy', random_state = 0)\n",
        "  forest.fit(X_train, Y_train)\n",
        "  #print model accuracy on the training data.\n",
        "  print('[0]Logistic Regression Training Accuracy:', log.score(X_train, Y_train))\n",
        "  print('[1]K Nearest Neighbor Training Accuracy:', knn.score(X_train, Y_train))\n",
        "  print('[2]Support Vector Machine (Linear Classifier) Training Accuracy:', svc_lin.score(X_train, Y_train))\n",
        "  print('[3]Support Vector Machine (RBF Classifier) Training Accuracy:', svc_rbf.score(X_train, Y_train))\n",
        "  print('[4]Gaussian Naive Bayes Training Accuracy:', gauss.score(X_train, Y_train))\n",
        "  print('[5]Decision Tree Classifier Training Accuracy:', tree.score(X_train, Y_train))\n",
        "  print('[6]Random Forest Classifier Training Accuracy:', forest.score(X_train, Y_train))\n",
        "  return log, knn, svc_lin, svc_rbf, gauss, tree, forest\n",
        "\n"
      ],
      "execution_count": null,
      "outputs": []
    },
    {
      "cell_type": "code",
      "metadata": {
        "id": "26nebuU1dh3-"
      },
      "source": [
        ""
      ],
      "execution_count": null,
      "outputs": []
    },
    {
      "cell_type": "code",
      "metadata": {
        "id": "IKeJCMnAdiBj"
      },
      "source": [
        ""
      ],
      "execution_count": null,
      "outputs": []
    },
    {
      "cell_type": "code",
      "metadata": {
        "id": "QhMWplZsdiHm"
      },
      "source": [
        ""
      ],
      "execution_count": null,
      "outputs": []
    },
    {
      "cell_type": "code",
      "metadata": {
        "id": "gbOmUDN7diFf"
      },
      "source": [
        ""
      ],
      "execution_count": null,
      "outputs": []
    },
    {
      "cell_type": "code",
      "metadata": {
        "id": "ymOBA8DrUnDr",
        "colab": {
          "base_uri": "https://localhost:8080/",
          "height": 136
        },
        "outputId": "dede94d5-6806-42c2-e84f-4bcafa83a04f"
      },
      "source": [
        "                                       #gating all the models.\t\n",
        "                             model = models(X_train,Y_train)\n"
      ],
      "execution_count": null,
      "outputs": [
        {
          "output_type": "stream",
          "text": [
            "[0]Logistic Regression Training Accuracy: 0.8521739130434782\n",
            "[1]K Nearest Neighbor Training Accuracy: 0.8608695652173913\n",
            "[2]Support Vector Machine (Linear Classifier) Training Accuracy: 0.8579710144927536\n",
            "[3]Support Vector Machine (RBF Classifier) Training Accuracy: 0.8521739130434782\n",
            "[4]Gaussian Naive Bayes Training Accuracy: 0.8434782608695652\n",
            "[5]Decision Tree Classifier Training Accuracy: 0.8985507246376812\n",
            "[6]Random Forest Classifier Training Accuracy: 0.8927536231884058\n"
          ],
          "name": "stdout"
        }
      ]
    },
    {
      "cell_type": "code",
      "metadata": {
        "id": "bY148gQA1ZGC",
        "colab": {
          "base_uri": "https://localhost:8080/",
          "height": 493
        },
        "outputId": "73902dee-7324-43f6-d445-dc4fda5d06c8"
      },
      "source": [
        "#Show the confusion matrix and accuracy for all of the models on the test data\n",
        "#Classification accuracy is the ratio of correct predictions to total predictions made.\n",
        "from sklearn.metrics import confusion_matrix\n",
        "for i in range(len(model)):\n",
        "  cm = confusion_matrix(Y_test, model[i].predict(X_test))\n",
        "  TN = cm[0][0]\n",
        "  TP = cm[1][1]\n",
        "  FN = cm[1][0]\n",
        "  FP = cm[0][1]\n",
        "  print(cm)\n",
        "\n",
        "  print('Model[{}] Testing Accuracy = \"{}!\"'.format(i, (TP + TN) / (TP + TN + FN + FP)))\n",
        "  print()# Print a new line\n"
      ],
      "execution_count": null,
      "outputs": [
        {
          "output_type": "stream",
          "text": [
            "[[101   2]\n",
            " [ 10   2]]\n",
            "Model[0] Testing Accuracy = \"0.8956521739130435!\"\n",
            "\n",
            "[[102   1]\n",
            " [ 10   2]]\n",
            "Model[1] Testing Accuracy = \"0.9043478260869565!\"\n",
            "\n",
            "[[103   0]\n",
            " [  9   3]]\n",
            "Model[2] Testing Accuracy = \"0.9217391304347826!\"\n",
            "\n",
            "[[103   0]\n",
            " [ 12   0]]\n",
            "Model[3] Testing Accuracy = \"0.8956521739130435!\"\n",
            "\n",
            "[[100   3]\n",
            " [  9   3]]\n",
            "Model[4] Testing Accuracy = \"0.8956521739130435!\"\n",
            "\n",
            "[[98  5]\n",
            " [10  2]]\n",
            "Model[5] Testing Accuracy = \"0.8695652173913043!\"\n",
            "\n",
            "[[94  9]\n",
            " [ 9  3]]\n",
            "Model[6] Testing Accuracy = \"0.8434782608695652!\"\n",
            "\n"
          ],
          "name": "stdout"
        }
      ]
    }
  ]
}